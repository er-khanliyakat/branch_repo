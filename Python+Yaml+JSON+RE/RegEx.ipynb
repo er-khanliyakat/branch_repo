{
 "cells": [
  {
   "cell_type": "code",
   "execution_count": null,
   "id": "579f3d6f-7cbf-4265-9278-fe9791ca40d8",
   "metadata": {},
   "outputs": [],
   "source": [
    "## Python RegEx : A Regular Expression is a special pattern of characters used to search, match, or manipulate text.\n",
    "\n",
    "- Think of it like a smart search tool that can:\n",
    "\n",
    "- Check if a pattern exists in a string (like an email or phone number),\n",
    "\n",
    "- Find where it is,\n",
    "\n",
    "- Or even replace it."
   ]
  },
  {
   "cell_type": "code",
   "execution_count": 4,
   "id": "b406d2d8-f9f9-438d-9d8a-92fda42a6386",
   "metadata": {},
   "outputs": [
    {
     "data": {
      "text/plain": [
       "\" Learning is a lifelong journey, not a destination. Every challenge, every failure, and every success adds to our knowledge\\nand shapes who we become. The world is constantly evolving, and to grow with it, we must stay curious, open-minded, \\nand determined. No matter your age or stage in life—keep learning. It's the key to unlocking your full potential and making a meaningful impact.\""
      ]
     },
     "execution_count": 4,
     "metadata": {},
     "output_type": "execute_result"
    }
   ],
   "source": [
    "\"\"\" Learning is a lifelong journey, not a destination. Every challenge, every failure, and every success adds to our knowledge\n",
    "and shapes who we become. The world is constantly evolving, and to grow with it, we must stay curious, open-minded, \n",
    "and determined. No matter your age or stage in life—keep learning. It's the key to unlocking your full potential and making a meaningful impact.\"\"\""
   ]
  },
  {
   "cell_type": "markdown",
   "id": "7c6825d3-994e-471d-a108-21a39514dbe3",
   "metadata": {},
   "source": [
    "<b> In the above text if we want to extract word like 'every' , we can here use Regular expression </b/>"
   ]
  },
  {
   "cell_type": "markdown",
   "id": "af38a9a9-6911-4f05-a6e8-2dc0dac8420f",
   "metadata": {},
   "source": [
    "### RegEx Module\n",
    "- Python has a built-in package called re, which can be used to work with Regular Expressions.\n",
    "\n",
    "- Import the re module:"
   ]
  },
  {
   "cell_type": "markdown",
   "id": "92a4ce5c-981b-4b9a-a01e-5c08fbe93943",
   "metadata": {},
   "source": [
    "#### In the below image if i want to take name and age of person,we have to first understand the pattern, like how it is written:\n",
    "- like first alphabet of person is in uppercases E.g:J in janice,T in thoen etc and age is of 2 digits"
   ]
  },
  {
   "cell_type": "markdown",
   "id": "16c08a69-9c00-44fa-a1ff-1fe340fcbbb4",
   "metadata": {},
   "source": [
    "<img src=\"Regex.png\" alt=\"Learning image\" width=\"800\"/>"
   ]
  },
  {
   "cell_type": "markdown",
   "id": "79c8b6d2-2097-41a6-9b20-e4a76b98547d",
   "metadata": {},
   "source": [
    "## Regular Expressions (RegEx) are used almost everywhere where text is involved:\n",
    "- Examples:\n",
    "- 📧 Is it a valid email address?\n",
    "\n",
    "- 📱 Is it a correct phone number?\n",
    "\n",
    "- 🔒 Is the password strong enough?\n",
    "\n",
    "- 📅 Is the date in the right format (like DD/MM/YYYY)?"
   ]
  },
  {
   "cell_type": "code",
   "execution_count": 4,
   "id": "f4c2450a-7e2e-4aeb-b577-6a0a58ac7657",
   "metadata": {},
   "outputs": [],
   "source": [
    "import re\n"
   ]
  },
  {
   "cell_type": "code",
   "execution_count": 11,
   "id": "907711b8-15af-4f51-9876-25ca034c8845",
   "metadata": {},
   "outputs": [],
   "source": [
    "# SOME BASIC EXAMPLES:\n",
    "nameage=\"\"\"Liyakat is 26 and Khan is 27\n",
    "            Ahmad is 24 and Liyakatahmad is 28\"\"\""
   ]
  },
  {
   "cell_type": "code",
   "execution_count": 12,
   "id": "2b5f5ad1-bf32-46ac-8641-e1770d9d93dd",
   "metadata": {},
   "outputs": [
    {
     "data": {
      "text/plain": [
       "['26', '27', '24', '28']"
      ]
     },
     "execution_count": 12,
     "metadata": {},
     "output_type": "execute_result"
    }
   ],
   "source": [
    "#first lets extract ages:\n",
    "ages=re.findall(r\"\\d{1,3}\",nameage)\n",
    "ages"
   ]
  },
  {
   "cell_type": "code",
   "execution_count": 13,
   "id": "f481bf1c-2dc3-47ad-be9f-823b398b67fe",
   "metadata": {},
   "outputs": [
    {
     "data": {
      "text/plain": [
       "['Liyakat', 'Khan', 'Ahmad', 'Liyakatahmad']"
      ]
     },
     "execution_count": 13,
     "metadata": {},
     "output_type": "execute_result"
    }
   ],
   "source": [
    "#now lets extract names\n",
    "names=re.findall(r\"[A-Z][a-z]*\",nameage)\n",
    "names"
   ]
  },
  {
   "cell_type": "code",
   "execution_count": 14,
   "id": "afc542d3-484d-4472-94e3-381863e139d8",
   "metadata": {},
   "outputs": [
    {
     "name": "stdout",
     "output_type": "stream",
     "text": [
      "{'Liyakat': '26', 'Khan': '27', 'Ahmad': '24', 'Liyakatahmad': '28'}\n"
     ]
    }
   ],
   "source": [
    "#lets make a dictionary:\n",
    "name_age_dict={}\n",
    "a=0\n",
    "for i in names:\n",
    "    name_age_dict[i]=ages[a]\n",
    "    a+=1\n",
    "print(name_age_dict)"
   ]
  },
  {
   "cell_type": "code",
   "execution_count": 22,
   "id": "e2847041-9ee5-4a27-827b-191e53ca1bba",
   "metadata": {},
   "outputs": [
    {
     "name": "stdout",
     "output_type": "stream",
     "text": [
      "Word successful is present\n"
     ]
    }
   ],
   "source": [
    "#Next Example:\n",
    "c=\"\"\"The most successful people are not those who know everything, but those who are always\n",
    "willing to learn something new. They ask questions, seek understanding, and remain curious in a world that’s constantly changing.\n",
    "In the face of difficulty, learning gives us resilience. In times of uncertainty, it gives us direction. And in moments of doubt, it gives us confidence. \n",
    "Whether it's learning a new skill, understanding a different perspective, or simply improving a little each day—keep learning\"\"\"\n",
    "if re.search(\"successful\",c):\n",
    "    print(\"Word successful is present\")\n",
    "else:\n",
    "    print(\"Not Present\")"
   ]
  },
  {
   "cell_type": "code",
   "execution_count": 24,
   "id": "228ba14d-07f6-4c56-964e-3978305722ee",
   "metadata": {},
   "outputs": [
    {
     "data": {
      "text/plain": [
       "3"
      ]
     },
     "execution_count": 24,
     "metadata": {},
     "output_type": "execute_result"
    }
   ],
   "source": [
    "#if we want to check how many time word learning is prsent in above text\n",
    "count = re.findall(\"learning\",c)\n",
    "len(count)"
   ]
  },
  {
   "cell_type": "code",
   "execution_count": 26,
   "id": "5eaa7ce7-9745-431d-805a-aa37894e369c",
   "metadata": {},
   "outputs": [
    {
     "name": "stdout",
     "output_type": "stream",
     "text": [
      "Full name is valid\n"
     ]
    }
   ],
   "source": [
    "\n",
    "if re.search(r'\\w{2,20}\\s\\w{2,20}', 'Liyakat khan'):\n",
    "    print(\"Full name is valid\")\n",
    "else:\n",
    "    print(\"Invalid Name\")\n"
   ]
  },
  {
   "cell_type": "code",
   "execution_count": 28,
   "id": "0ce77f28-f184-40f2-87c5-c268a14e86cd",
   "metadata": {},
   "outputs": [
    {
     "name": "stdout",
     "output_type": "stream",
     "text": [
      "Invalid Name\n"
     ]
    }
   ],
   "source": [
    "\n",
    "if re.search(r'\\w{2,20}\\s\\w{2,20}', 'Liyakat, khan'):\n",
    "    print(\"Full name is valid\")\n",
    "else:\n",
    "    print(\"Invalid Name\")\n"
   ]
  },
  {
   "cell_type": "code",
   "execution_count": 30,
   "id": "f0daf4c2-384c-45d3-a2d9-56fc9775f27d",
   "metadata": {},
   "outputs": [
    {
     "data": {
      "text/plain": [
       "['rahul@cognitior.com', 'md@gmail.com']"
      ]
     },
     "execution_count": 30,
     "metadata": {},
     "output_type": "execute_result"
    }
   ],
   "source": [
    "email = 'rahul@cognitior.com md@gmail.com @seo.com dc@.com'\n",
    "\n",
    "(re.findall(r'[\\w._%+-]{1,20}@[\\w.-]{2,20}\\.[A-Za-z]{2,3}', email))\n"
   ]
  },
  {
   "cell_type": "code",
   "execution_count": 32,
   "id": "74e204c5-a4a0-4466-b945-9c95bfc5bdcd",
   "metadata": {},
   "outputs": [
    {
     "name": "stdout",
     "output_type": "stream",
     "text": [
      "Match not found\n"
     ]
    }
   ],
   "source": [
    "\n",
    "pattern = \"regex pattern\"\n",
    "text = \"text to search\"\n",
    "match = re.search(pattern, text)\n",
    "if match:\n",
    "    print(\"Match found:\", match.group())\n",
    "else:\n",
    "    print(\"Match not found\")\n"
   ]
  },
  {
   "cell_type": "markdown",
   "id": "5690f762-783f-401a-b64c-2628869dd6b7",
   "metadata": {},
   "source": [
    "## Why is regular expression used:\n",
    "➤ 1. Pattern Matching\n",
    "- To identify whether a string fits a specific pattern — like an email, phone number, or password.\n",
    "\n",
    "➤ 2. Data Validation\n",
    "- To check user input fields in web forms.\n",
    "\n",
    "➤ 3. Data Extraction\n",
    "- To extract specific information from unstructured or semi-structured text (logs, HTML, emails, etc.).\n",
    "\n",
    "➤ 4. Search & Replace\n",
    "- To clean or transform text, e.g., replace all dates with a standard format."
   ]
  },
  {
   "cell_type": "code",
   "execution_count": 35,
   "id": "72f542f2-fbb9-4f45-bd85-b5d6e302da37",
   "metadata": {},
   "outputs": [
    {
     "name": "stdout",
     "output_type": "stream",
     "text": [
      "Valid email\n"
     ]
    }
   ],
   "source": [
    "import re\n",
    "email = \"user@example.com\"\n",
    "if re.match(r'^\\w+[\\w\\.-]*@\\w+\\.\\w{2,}$', email):\n",
    "    print(\"Valid email\")\n"
   ]
  },
  {
   "cell_type": "code",
   "execution_count": 37,
   "id": "62f6d24d-68f8-4a7a-a225-930d838a0b2d",
   "metadata": {},
   "outputs": [
    {
     "data": {
      "text/plain": [
       "['(123) 456-7890', '123-456-7890']"
      ]
     },
     "execution_count": 37,
     "metadata": {},
     "output_type": "execute_result"
    }
   ],
   "source": [
    "text = \"Call me at (123) 456-7890 or 123-456-7890\"\n",
    "numbers = re.findall(r'\\(?\\d{3}\\)?[-.\\s]?\\d{3}[-.\\s]?\\d{4}', text)\n",
    "numbers"
   ]
  },
  {
   "cell_type": "code",
   "execution_count": 39,
   "id": "bfd8b36d-15ea-4016-8507-1800abf51868",
   "metadata": {},
   "outputs": [
    {
     "data": {
      "text/plain": [
       "['https://openai.com', 'http://example.com']"
      ]
     },
     "execution_count": 39,
     "metadata": {},
     "output_type": "execute_result"
    }
   ],
   "source": [
    "# Scrape links from web pages or emails.\n",
    "text = \"Visit https://openai.com and http://example.com\"\n",
    "urls = re.findall(r'https?://[^\\s]+', text)\n",
    "urls"
   ]
  },
  {
   "cell_type": "code",
   "execution_count": 41,
   "id": "ba58457c-2b7e-452d-bf8e-fc65c72732bd",
   "metadata": {},
   "outputs": [
    {
     "name": "stdout",
     "output_type": "stream",
     "text": [
      "Strong password\n"
     ]
    }
   ],
   "source": [
    "# Use Case: Enforce rules like at least 8 characters, one uppercase, and one number.\n",
    "password = \"Secure123\"\n",
    "if re.match(r'^(?=.*[A-Z])(?=.*\\d).{8,}$', password):\n",
    "    print(\"Strong password\")"
   ]
  },
  {
   "cell_type": "code",
   "execution_count": 5,
   "id": "a7dac14d-cc4d-4a78-91b9-93f112e6c2d9",
   "metadata": {},
   "outputs": [
    {
     "name": "stdout",
     "output_type": "stream",
     "text": [
      "Weak Password\n"
     ]
    }
   ],
   "source": [
    "import re \n",
    "password =  \"Secure#123\"\n",
    "if re.match(r'^(?=.*[A-Z])(?=.*\\d).{8,]$',password):\n",
    "    print(\"Password is strong\")\n",
    "else:\n",
    "    print(\"Weak Password\")"
   ]
  },
  {
   "cell_type": "code",
   "execution_count": 43,
   "id": "1740a42a-dca4-4f1c-b310-c4c6051452b2",
   "metadata": {},
   "outputs": [
    {
     "data": {
      "text/plain": [
       "'12/06/2025'"
      ]
     },
     "execution_count": 43,
     "metadata": {},
     "output_type": "execute_result"
    }
   ],
   "source": [
    "# find dates in text\n",
    "text = \"The event is on 12/06/2025.\"\n",
    "date = re.search(r'\\b\\d{2}/\\d{2}/\\d{4}\\b', text).group()\n",
    "date"
   ]
  },
  {
   "cell_type": "markdown",
   "id": "01904f80-02ec-4604-a1fc-3c2ebacc0f60",
   "metadata": {},
   "source": [
    "### Regular expressions are used when:\n",
    "\n",
    "- You need to detect, extract, or validate patterns in text.\n",
    "\n",
    "- You want a concise way to handle complex text operations."
   ]
  },
  {
   "cell_type": "code",
   "execution_count": 46,
   "id": "2498960f-2930-41bb-8793-ee6bacb497de",
   "metadata": {},
   "outputs": [
    {
     "name": "stdout",
     "output_type": "stream",
     "text": [
      "Match found: a\n"
     ]
    }
   ],
   "source": [
    "text = 'apple'\n",
    "pattern = 'a'\n",
    "\n",
    "match = re.search(pattern, text)\n",
    "\n",
    "if match:\n",
    "    print('Match found:', match.group())\n",
    "else:\n",
    "    print('Match not found')\n"
   ]
  },
  {
   "cell_type": "code",
   "execution_count": 48,
   "id": "8dce3b5e-dc86-4c7b-b72c-7f5e3218d4dd",
   "metadata": {},
   "outputs": [
    {
     "name": "stdout",
     "output_type": "stream",
     "text": [
      "Start Index: 24\n",
      "End Index: 31\n"
     ]
    }
   ],
   "source": [
    "## this example checeks the starting and ending index of youtube word\n",
    "\n",
    "s = 'Welcome to Intellipaats YouTube channel'\n",
    "\n",
    "match = re.search(r'YouTube', s)\n",
    "\n",
    "print('Start Index:', match.start())\n",
    "print('End Index:', match.end())\n"
   ]
  },
  {
   "cell_type": "code",
   "execution_count": 50,
   "id": "96ff3e8f-554b-4cc7-a2b2-e7316c64fa3b",
   "metadata": {},
   "outputs": [
    {
     "data": {
      "text/plain": [
       "<re.Match object; span=(0, 17), match='The rain in Spain'>"
      ]
     },
     "execution_count": 50,
     "metadata": {},
     "output_type": "execute_result"
    }
   ],
   "source": [
    "txt = \"The rain in Spain\"\n",
    "x = re.search(\"^The.*Spain$\", txt) #means starts with 'the' and ends with spain \n",
    "x"
   ]
  },
  {
   "cell_type": "code",
   "execution_count": 9,
   "id": "75759a60-2517-4f44-a358-3e8e67877b19",
   "metadata": {},
   "outputs": [
    {
     "name": "stdout",
     "output_type": "stream",
     "text": [
      "['this', 'is', 'a', 'sentence']\n"
     ]
    }
   ],
   "source": [
    "#Extract all words from a sentence\n",
    "text = \"this is a sa2mple sentence\"\n",
    "stri=re.findall(r\"\\b[A-z][a-z]*\\b\",text)\n",
    "print(stri)"
   ]
  },
  {
   "cell_type": "code",
   "execution_count": 27,
   "id": "8a6b50c4-fc04-4240-883e-f881ca7e6e56",
   "metadata": {},
   "outputs": [
    {
     "name": "stdout",
     "output_type": "stream",
     "text": [
      "['9876543210', '9123456789']\n"
     ]
    }
   ],
   "source": [
    "#Extract all numbers \n",
    "text = \"Call me at 9876543210 or 9123456789\"\n",
    "phones = re.findall(r'\\b\\d{10}\\b', text)\n",
    "print(phones)"
   ]
  },
  {
   "cell_type": "code",
   "execution_count": 35,
   "id": "ea3baa29-880b-430f-a825-b80b5646df1f",
   "metadata": {},
   "outputs": [
    {
     "name": "stdout",
     "output_type": "stream",
     "text": [
      "['#Python', '#AI', '#MachineLearning']\n"
     ]
    }
   ],
   "source": [
    "text = \"Trending hashtags: #Python #AI #MachineLearning\"\n",
    "hashtags = re.findall(r'#\\w+', text)\n",
    "print(hashtags)"
   ]
  },
  {
   "cell_type": "code",
   "execution_count": 43,
   "id": "e6a22811-ff6e-4ab6-bc67-445544833436",
   "metadata": {},
   "outputs": [
    {
     "name": "stdout",
     "output_type": "stream",
     "text": [
      "['e', 'l', 'l', 'o', 'o', 'r', 'l', 'd']\n"
     ]
    }
   ],
   "source": [
    "# Find all lowercase letters\n",
    "text = \"Hello123 World!\"\n",
    "result = re.findall(r'[a-z]', text)\n",
    "print(result)\n"
   ]
  },
  {
   "cell_type": "markdown",
   "id": "f89756a7-f82f-4cbb-a8ba-e49287958329",
   "metadata": {},
   "source": [
    "### ============================================================================"
   ]
  },
  {
   "cell_type": "markdown",
   "id": "be0e6608-2c60-46e5-99ae-9ec0223820a2",
   "metadata": {},
   "source": [
    "### EXAMPLES  ON FINDALL FUNCTION:"
   ]
  },
  {
   "cell_type": "code",
   "execution_count": 23,
   "id": "8edf5799-7f10-4a61-a2af-b9c8c62ab83a",
   "metadata": {},
   "outputs": [
    {
     "name": "stdout",
     "output_type": "stream",
     "text": [
      "['$', '!', '?']\n"
     ]
    }
   ],
   "source": [
    " # Write a regular expression to extract all special characters\n",
    "text = \"Price is $50! Are you sure?\"\n",
    "pattern = r'[^A-Za-z0-9\\s]'     #   ^ inside these brackets []\t\n",
    "print(re.findall(pattern,text))"
   ]
  },
  {
   "cell_type": "code",
   "execution_count": 17,
   "id": "d23c755d-4f71-4dbe-bf32-1b1dd7aec4e8",
   "metadata": {},
   "outputs": [
    {
     "data": {
      "text/plain": [
       "['Hello']"
      ]
     },
     "execution_count": 17,
     "metadata": {},
     "output_type": "execute_result"
    }
   ],
   "source": [
    "#Write a regular expression to extract word hello from the beginning of tring \"Hello World\"\n",
    "text = \"Hello World\"\n",
    "pattern = r'^Hello'\n",
    "re.findall(pattern,text)\n",
    "# Finds 'Hello' only if it's at the beginning\n"
   ]
  },
  {
   "cell_type": "code",
   "execution_count": 41,
   "id": "910b21b1-2cf8-4503-9989-0ae475ec8fec",
   "metadata": {},
   "outputs": [
    {
     "name": "stdout",
     "output_type": "stream",
     "text": [
      "['1990', '2005', '2023']\n"
     ]
    }
   ],
   "source": [
    "#  Write a regular expression to extract all 4-digit years\n",
    "text = \"The events happened in 1990, 2005, and 2023 X1990Y.\"\n",
    "result = re.findall(r'\\b\\d{4}\\b', text)\n",
    "print(result)\n",
    "\n"
   ]
  },
  {
   "cell_type": "code",
   "execution_count": 45,
   "id": "c57ccca3-9945-4f9b-a952-01d6dc1fb125",
   "metadata": {},
   "outputs": [
    {
     "name": "stdout",
     "output_type": "stream",
     "text": [
      "['learning', 'coding', 'enjoying', 'matching']\n"
     ]
    }
   ],
   "source": [
    "# Write a regular expression to extract all words ending with “ing”\n",
    "text = \"I am learning coding and enjoying every moment matching\"\n",
    "result = re.findall(r'\\b\\w+ing\\b', text)\n",
    "print(result)"
   ]
  },
  {
   "cell_type": "code",
   "execution_count": 81,
   "id": "422b0d4c-3cd9-4004-82a5-ca98d33f6adc",
   "metadata": {},
   "outputs": [
    {
     "name": "stdout",
     "output_type": "stream",
     "text": [
      "['25-03-2023', '12-12-2025']\n"
     ]
    }
   ],
   "source": [
    "#  Write a regular expression to extract all dates in DD-MM-YYYY format\n",
    "#  Use case: Extracting dates from emails, logs, or documents.\n",
    "text = \"The exams are scheduled on 25-03-2023 and 12-12-2025.\"\n",
    "dates = re.findall(r'\\b\\d{2}-\\d{2}-\\d{4}\\b', text)\n",
    "print(dates)"
   ]
  },
  {
   "cell_type": "code",
   "execution_count": 95,
   "id": "ad43ea87-821b-44c9-a2d1-40cc3a5383ef",
   "metadata": {},
   "outputs": [
    {
     "name": "stdout",
     "output_type": "stream",
     "text": [
      "['#Travel', '#Sunset', '#NaturePhotography']\n"
     ]
    }
   ],
   "source": [
    "# Write a regular expression to extract all Instagram-style hashtags\n",
    "# Use case: Social media content analysis.\n",
    "text = \"Loving this! #Travel #Sunset #NaturePhotography\"\n",
    "hashtags = re.findall(r'#\\w+', text)\n",
    "print(hashtags)"
   ]
  },
  {
   "cell_type": "code",
   "execution_count": 101,
   "id": "3426efa9-29cc-420e-9276-b341fe03e801",
   "metadata": {},
   "outputs": [
    {
     "name": "stdout",
     "output_type": "stream",
     "text": [
      "['ABCDE1234F']\n"
     ]
    }
   ],
   "source": [
    "# Write a regular expression to find all PAN card numbers (e.g., ABCTY1234D)\n",
    "# Use case: Verifying Indian PAN card numbers in forms.\n",
    "\n",
    "text = \"PAN: ABCDE1234F, invalid: A1CDE2345G\"\n",
    "pan_cards = re.findall(r'\\b[A-Z]{5}[0-9]{4}[A-Z]\\b', text)\n",
    "print(pan_cards)"
   ]
  },
  {
   "cell_type": "code",
   "execution_count": 111,
   "id": "04542344-5c25-48df-86c9-3887cec304f2",
   "metadata": {},
   "outputs": [
    {
     "name": "stdout",
     "output_type": "stream",
     "text": [
      "['400001', '110001']\n"
     ]
    }
   ],
   "source": [
    "# Write a regular expression to extract all 6-digit Indian PIN codes\n",
    "# Use case: Extract postal codes from addresses.\n",
    "\n",
    "text = \"Send parcel to Mumbai 400001 or Delhi 110001.\"\n",
    "pincodes = re.findall(r'\\b\\d{6}\\b', text)\n",
    "print(pincodes)"
   ]
  },
  {
   "cell_type": "code",
   "execution_count": 117,
   "id": "20720c98-cee6-45e6-b50d-357a186244c5",
   "metadata": {},
   "outputs": [
    {
     "name": "stdout",
     "output_type": "stream",
     "text": [
      "['How are you?', \" What's your name?\"]\n"
     ]
    }
   ],
   "source": [
    "# Write a regular expression to extract all sentences ending with a question mark (?)\n",
    "# Use case: Pulling all questions from a document or chat.\n",
    "\n",
    "text = \"How are you? I hope you're fine. What's your name?\"\n",
    "questions = re.findall(r'[^.?!]*\\?', text)\n",
    "print(questions)"
   ]
  },
  {
   "cell_type": "markdown",
   "id": "bf1c3d52-784d-40f6-80ec-96cce42f5b2b",
   "metadata": {},
   "source": [
    "### re.search(pattern, string)\n",
    "#### What it does?\n",
    "- Searches the entire string to check if the given regex pattern exists anywhere inside it.\n",
    "\n",
    "- If found, it returns a Match object (containing details like matched text, position, etc.).\n",
    "\n",
    "- If not found, it returns None.\n",
    "\n",
    "- syntax : <b>match_object = re.search(pattern, string) </b>\n"
   ]
  },
  {
   "cell_type": "code",
   "execution_count": 10,
   "id": "117e8e77-4339-4215-b8ee-4f06b556d6c5",
   "metadata": {},
   "outputs": [
    {
     "name": "stdout",
     "output_type": "stream",
     "text": [
      "Found: Python\n"
     ]
    }
   ],
   "source": [
    "# simple example\n",
    "text = \"I love Python programming\"\n",
    "result = re.search(r\"Python\", text)  \n",
    "\n",
    "if result:  \n",
    "    print(\"Found:\", result.group())  # Output: Found: Python,Since it exists, result.group() gives the matched word.\n",
    "else:  \n",
    "    print(\"Not found\")"
   ]
  },
  {
   "cell_type": "code",
   "execution_count": 12,
   "id": "6f786a09-f3af-4d76-b1d5-776259105b18",
   "metadata": {},
   "outputs": [
    {
     "name": "stdout",
     "output_type": "stream",
     "text": [
      "None\n"
     ]
    }
   ],
   "source": [
    "# Example 2: Pattern Not Found\n",
    "text = \"Hello World\"\n",
    "result = re.search(r\"Python\", text)  \n",
    "\n",
    "print(result)  # Output: None (since \"Python\" is not in the string)"
   ]
  },
  {
   "cell_type": "code",
   "execution_count": 14,
   "id": "64b2b040-4d9d-4625-ba11-ae0137d2a0d3",
   "metadata": {},
   "outputs": [
    {
     "name": "stdout",
     "output_type": "stream",
     "text": [
      "Found number: 12345\n"
     ]
    }
   ],
   "source": [
    "# Example 3: Using Regex Patterns (Digits)\n",
    "text = \"Order 12345 was placed\"\n",
    "result = re.search(r\"\\d+\", text)  # \\d+ = one or more digits\n",
    "\n",
    "if result:  \n",
    "    print(\"Found number:\", result.group())  # Output: Found number: 12345\n"
   ]
  },
  {
   "cell_type": "markdown",
   "id": "38a1bf47-de3b-4300-b93c-0d7eccf3b8f2",
   "metadata": {},
   "source": [
    "Explanation:\n",
    "\n",
    "\\d+ matches one or more digits.\n",
    "\n",
    "Extracts \"12345\" from the string."
   ]
  },
  {
   "cell_type": "code",
   "execution_count": 17,
   "id": "8f6b18c7-25a2-4c1b-8e81-80c0eedce9b2",
   "metadata": {},
   "outputs": [
    {
     "name": "stdout",
     "output_type": "stream",
     "text": [
      "Found: World\n"
     ]
    }
   ],
   "source": [
    "# Example 4: Case-Insensitive Search\n",
    "text = \"Hello World\"\n",
    "result = re.search(r\"world\", text, re.IGNORECASE)  # Ignore case\n",
    "\n",
    "if result:  \n",
    "    print(\"Found:\", result.group())  # Output: Found: World"
   ]
  },
  {
   "cell_type": "markdown",
   "id": "3c25ce49-3677-43a1-9c64-0e1dabe1bbe2",
   "metadata": {},
   "source": [
    "Explanation:\n",
    "\n",
    "re.IGNORECASE makes the search case-insensitive.\n",
    "\n",
    "Matches \"World\" even though the pattern was \"world\"."
   ]
  },
  {
   "cell_type": "code",
   "execution_count": 29,
   "id": "946c5e6e-f284-4e52-baf8-e14347defd7c",
   "metadata": {},
   "outputs": [
    {
     "name": "stdout",
     "output_type": "stream",
     "text": [
      "Matched text: $100\n",
      "Starts at index: 13\n",
      "Ends at index: 17\n"
     ]
    }
   ],
   "source": [
    "# Example 5: Extracting Matched Position\n",
    "text = \"The price is $100\"\n",
    "result = re.search(r\"\\$\\d+\", text)  # \\$ = escape $, \\d+ = digits\n",
    "\n",
    "if result:  \n",
    "    print(\"Matched text:\", result.group())  # $100  \n",
    "    print(\"Starts at index:\", result.start())  # 13  \n",
    "    print(\"Ends at index:\", result.end())  # 16"
   ]
  },
  {
   "cell_type": "markdown",
   "id": "03eea70e-5fa4-4285-93ea-55bf4a75e6ba",
   "metadata": {},
   "source": [
    "Explanation:\n",
    "\n",
    "\\$\\d+ matches $ followed by digits (e.g., $100).\n",
    "\n",
    "result.start() → Starting index of the match.\n",
    "\n",
    "result.end() → Ending index + 1."
   ]
  },
  {
   "cell_type": "markdown",
   "id": "2e711cb8-42af-4f7e-a472-6c1a7ed33270",
   "metadata": {},
   "source": [
    "##### When to Use re.search()?\n",
    "- ✔ When you want to check if a pattern exists anywhere in a string.\n",
    "- ✔ When you need the first occurrence of a pattern.\n",
    "- ✔ When you want details like matched text, position, etc.\n",
    "\n",
    "##### When NOT to Use?\n",
    "- ❌ If you need all matches → Use findall() or finditer().\n",
    "- ❌ If you need to check only the start → Use match()."
   ]
  },
  {
   "cell_type": "code",
   "execution_count": 45,
   "id": "0daa9004-86ea-4a16-b34c-9e23d3394adc",
   "metadata": {},
   "outputs": [
    {
     "name": "stdout",
     "output_type": "stream",
     "text": [
      "Matched text: ['$100', '$900', '$800']\n"
     ]
    }
   ],
   "source": [
    "# Example 5: Extracting Matched Position at different positions.here we cannot use search, we use findall\n",
    "text = \"The price is $100 The price is $900 The price is $800\"\n",
    "result = re.findall(r\"\\$\\d+\", text)  # \\$ = escape $, \\d+ = digits\n",
    "\n",
    "if result:  \n",
    "    print(\"Matched text:\", result)  # $100  \n",
    "    # print(\"Starts at index:\", result.start())  # 13  \n",
    "    # print(\"Ends at index:\", result.end())  # 16"
   ]
  },
  {
   "cell_type": "code",
   "execution_count": 14,
   "id": "6d113661-1e39-4c9c-b66e-d88ca2337c8f",
   "metadata": {},
   "outputs": [
    {
     "name": "stdout",
     "output_type": "stream",
     "text": [
      "Found number: 99\n"
     ]
    }
   ],
   "source": [
    "# Task: Find if a string has any digits in it.\n",
    "# Input: \"The price is 99 dollars\"\n",
    "text = \"The price is 99 dollars\"\n",
    "result = re.search(r\"\\d+\", text)  # \\d+ = one or more digits\n",
    "\n",
    "if result:\n",
    "    print(\"Found number:\", result.group())  # Output: Found number: 99\n",
    "else:\n",
    "    print(\"No digits found\")"
   ]
  },
  {
   "cell_type": "code",
   "execution_count": 18,
   "id": "00abcc0d-3edd-4fd8-8d8f-c175be8b738a",
   "metadata": {},
   "outputs": [
    {
     "name": "stdout",
     "output_type": "stream",
     "text": [
      "Starts with vowel: A\n"
     ]
    }
   ],
   "source": [
    "# Determine if a string starts with a vowel (A, E, I, O, U) (case-insensitive).\n",
    "# Input: \"Apple is a fruit\n",
    "text = \"Apple is a fruit\"\n",
    "result = re.search(r\"^[AEIOUaeiou]\", text)\n",
    "\n",
    "if result:\n",
    "    print(\"Starts with vowel:\", result.group())  # Output: Starts with vowel: A\n",
    "else:\n",
    "    print(\"Does not start with a vowel\")"
   ]
  },
  {
   "cell_type": "code",
   "execution_count": 1,
   "id": "f1f17d90-6d7e-4c25-9aa4-e521ab549e19",
   "metadata": {},
   "outputs": [],
   "source": [
    "import re"
   ]
  },
  {
   "cell_type": "code",
   "execution_count": 3,
   "id": "a3333f35-e0bc-4d58-a56f-215cf27e155e",
   "metadata": {},
   "outputs": [
    {
     "name": "stdout",
     "output_type": "stream",
     "text": [
      "Running\n"
     ]
    }
   ],
   "source": [
    "# Find first word ending with 'ing' (search)\n",
    "text = \"Running is exciting\"\n",
    "result = re.search(r'\\b\\w+ing\\b', text)\n",
    "print(result.group())  # 'Running'"
   ]
  },
  {
   "cell_type": "code",
   "execution_count": 5,
   "id": "0c8f1ef3-47ef-4a36-93fe-e0c1b6969562",
   "metadata": {},
   "outputs": [
    {
     "name": "stdout",
     "output_type": "stream",
     "text": [
      "True\n"
     ]
    }
   ],
   "source": [
    "# But re.search() finds only the first match, which is \"Running\".\n",
    "text = \"HELLO\"\n",
    "result = re.match(r'^[A-Z]+$', text)\n",
    "print(bool(result))  # True\n"
   ]
  },
  {
   "cell_type": "code",
   "execution_count": 7,
   "id": "40bd4e0f-9e80-4a72-8db8-1311a62eb142",
   "metadata": {},
   "outputs": [
    {
     "name": "stdout",
     "output_type": "stream",
     "text": [
      "True\n"
     ]
    }
   ],
   "source": [
    "# Check valid IP address (match)\n",
    "ip = \"192.168.1.1\"\n",
    "result = re.match(r'^(\\d{1,3}\\.){3}\\d{1,3}$', ip)\n",
    "print(bool(result))"
   ]
  },
  {
   "cell_type": "code",
   "execution_count": 13,
   "id": "f20524d5-e5b6-428f-b182-4c3f66b9f6ab",
   "metadata": {},
   "outputs": [
    {
     "name": "stdout",
     "output_type": "stream",
     "text": [
      "Word is :  @user1\n"
     ]
    }
   ],
   "source": [
    "# Extract first Twitter handle (search)\n",
    "text = \"Follow @user1 and @user2\"\n",
    "result = re.search(r'@\\w+', text)\n",
    "print(\"Word is : \" ,result.group())  # '@user1'"
   ]
  },
  {
   "cell_type": "code",
   "execution_count": 23,
   "id": "a06eed70-9a16-4af5-bb45-5b684ab622a5",
   "metadata": {},
   "outputs": [
    {
     "name": "stdout",
     "output_type": "stream",
     "text": [
      "True\n"
     ]
    }
   ],
   "source": [
    "# Check valid Python variable name (match)\n",
    "var = \"_valid_name123\"\n",
    "result = re.match(r'^[a-zA-Z_]\\w*$', var)\n",
    "print(bool(result))  # True"
   ]
  },
  {
   "cell_type": "code",
   "execution_count": 27,
   "id": "96d9dec8-488c-48a5-b7f6-8272d61b507c",
   "metadata": {},
   "outputs": [
    {
     "name": "stdout",
     "output_type": "stream",
     "text": [
      "Found :  @user1\n"
     ]
    }
   ],
   "source": [
    "text = \"follow @user1 and @user2\"\n",
    "result =re.search(r\"\\@\\w+\",text)\n",
    "if result:\n",
    "    print(\"Found : \",result.group())\n",
    "else:\n",
    "    print(\"Not found\")"
   ]
  },
  {
   "cell_type": "code",
   "execution_count": 31,
   "id": "8f2f68ee-2108-4828-b2f5-d36e60d108ec",
   "metadata": {},
   "outputs": [
    {
     "name": "stdout",
     "output_type": "stream",
     "text": [
      "True\n"
     ]
    }
   ],
   "source": [
    "# Check valid Python variable name (match)\n",
    "text = \"_valid_name123\"\n",
    "result = re.match(r'^[a-zA-Z_]\\w*$', text)\n",
    "print(bool(result))  # True"
   ]
  },
  {
   "cell_type": "code",
   "execution_count": 39,
   "id": "b7d7b55d-749e-4702-b905-4675adf2bdd6",
   "metadata": {},
   "outputs": [
    {
     "name": "stdout",
     "output_type": "stream",
     "text": [
      "True\n"
     ]
    }
   ],
   "source": [
    "# Check valid credit card number (match)\n",
    "card = \"4111-1111-1111-1111\"\n",
    "result = re.match(r'^\\d{4}(-\\d{4}){3}$', card)\n",
    "print(bool(result))  # True"
   ]
  },
  {
   "cell_type": "code",
   "execution_count": null,
   "id": "31e47867-d47a-42a3-a50a-42110d24bcf8",
   "metadata": {},
   "outputs": [],
   "source": [
    "# Check valid credit card number (match)\n",
    "card = \"4111-1111-1111-1111\"\n",
    "result = re.match(r'^\\d{4}(-\\d{4}){3}$', card)\n",
    "print(bool(result)) "
   ]
  },
  {
   "cell_type": "code",
   "execution_count": 77,
   "id": "b8e546f1-beeb-43be-a9e3-a67124af3fca",
   "metadata": {},
   "outputs": [
    {
     "name": "stdout",
     "output_type": "stream",
     "text": [
      "facetious\n"
     ]
    }
   ],
   "source": [
    "# Find first word with all vowels in order (search)\n",
    "text = \"mee facetious is educational\"\n",
    "result = re.search(r'\\b\\w*a\\w*e\\w*i\\w*o\\w*u\\w*\\b', text, re.IGNORECASE)\n",
    "print(result.group())  # 'facetious'"
   ]
  },
  {
   "cell_type": "code",
   "execution_count": 83,
   "id": "82bdb441-73a4-4fdd-9809-ef6d12038e95",
   "metadata": {},
   "outputs": [
    {
     "name": "stdout",
     "output_type": "stream",
     "text": [
      "\"Hello\"\n"
     ]
    }
   ],
   "source": [
    "# Find first quoted text (search)\n",
    "text = 'He said \"Hello\" and left'\n",
    "result = re.search(r'\"([^\"]*)\"', text)\n",
    "print(result.group())  # 'Hello"
   ]
  },
  {
   "cell_type": "markdown",
   "id": "ccd023bc-5276-460f-a3b4-9c6ddcbcc2ea",
   "metadata": {},
   "source": [
    "### finditer()\n",
    "- The finditer() function is a method in Python's re module that helps you find all matches of a pattern in a string. Unlike findall(), it returns an iterator that gives you match objects, which contain more information about each match.\n",
    "- finditer() is especially useful when you need more information than just the matched text itself\n",
    "- syntax :re.finditer(pattern,text,flags(optional))\n",
    "\n",
    "#### How finditer() Works\n",
    "- Scans the string from left to right\n",
    "\n",
    "- Finds all non-overlapping matches of the pattern\n",
    "\n",
    "- Returns an iterator yielding match objects\n",
    "\n",
    "- Each match object contains info about where the match was found"
   ]
  },
  {
   "cell_type": "markdown",
   "id": "81d21341-090a-4f33-82f5-bed74068269c",
   "metadata": {},
   "source": [
    "### Why Use finditer() Instead of findall()?\n",
    "- findall() just gives you the matched text\n",
    "\n",
    "- finditer() gives you match objects with:\n",
    "\n",
    "- The matched text\n",
    "\n",
    "- position where it was found\n",
    "\n",
    "- Groups (if your pattern has them)"
   ]
  },
  {
   "cell_type": "code",
   "execution_count": 32,
   "id": "7331d326-2327-43f2-868b-7b7a94523f8f",
   "metadata": {},
   "outputs": [
    {
     "name": "stdout",
     "output_type": "stream",
     "text": [
      "<callable_iterator object at 0x000001B1852CB010>\n",
      "<class 'callable_iterator'>\n",
      "[<re.Match object; span=(0, 2), match='ab'>, <re.Match object; span=(3, 5), match='ab'>, <re.Match object; span=(5, 7), match='ab'>]\n"
     ]
    }
   ],
   "source": [
    "#EXAMPLES:\n",
    "pattern =\"ab\"\n",
    "data = \"abaababa\"\n",
    "result = re.finditer(pattern,data)\n",
    "print(result)   # returns iterator\n",
    "print(type(result))\n",
    "print(list(result))\n"
   ]
  },
  {
   "cell_type": "code",
   "execution_count": 56,
   "id": "c422aecb-ef41-4873-a90f-41081b8a022a",
   "metadata": {},
   "outputs": [
    {
     "name": "stdout",
     "output_type": "stream",
     "text": [
      "Values are :  ab\n",
      "Values are :  ab\n",
      "Values are :  ab\n"
     ]
    }
   ],
   "source": [
    "#if we want to check values we can use group function\n",
    "pattern =\"ab\"\n",
    "data = \"abaababa\"\n",
    "result = re.finditer(pattern,data)\n",
    "new_result = list(result)\n",
    "for i in new_result:\n",
    "    print(\"Values are : \",i.group())"
   ]
  },
  {
   "cell_type": "code",
   "execution_count": 76,
   "id": "eac22269-4c73-4f81-a898-fb2ac77a3f43",
   "metadata": {},
   "outputs": [
    {
     "name": "stdout",
     "output_type": "stream",
     "text": [
      "Value or match 1 starting at index :  0\n",
      "Value or match 2 starting at index :  3\n",
      "Value or match 3 starting at index :  5\n"
     ]
    }
   ],
   "source": [
    "#if we want to check starting index of values from where they start, we can use, start function\n",
    "pattern =\"ab\"\n",
    "data = \"abaababa\"\n",
    "result = re.finditer(pattern,data)\n",
    "new_result = list(result)\n",
    "for i,m in enumerate(new_result,1):\n",
    "    print(f\"Value or match {i} starting at index : \",m.start())"
   ]
  },
  {
   "cell_type": "code",
   "execution_count": 80,
   "id": "61460374-f038-4b78-a862-7c15271768a7",
   "metadata": {},
   "outputs": [
    {
     "name": "stdout",
     "output_type": "stream",
     "text": [
      "Value or match 1 end at index :  2\n",
      "Value or match 2 end at index :  5\n",
      "Value or match 3 end at index :  7\n"
     ]
    }
   ],
   "source": [
    "#if we want to check ending index of values from where they end, we can use, end function\n",
    "pattern =\"ab\"\n",
    "data = \"abaababa\"\n",
    "result = re.finditer(pattern,data)\n",
    "new_result = list(result)\n",
    "for i,m in enumerate(new_result,1):\n",
    "    print(f\"Value or match {i} end at index : \",m.end())"
   ]
  },
  {
   "cell_type": "code",
   "execution_count": 86,
   "id": "1ee7a83c-5e0f-456a-bfa4-1b2cb677da0f",
   "metadata": {},
   "outputs": [
    {
     "data": {
      "text/plain": [
       "['ab', 'ab', 'ab']"
      ]
     },
     "execution_count": 86,
     "metadata": {},
     "output_type": "execute_result"
    }
   ],
   "source": [
    "# difference between findall vs finditer\n",
    "pattern =\"ab\"\n",
    "data = \"abaababa\"\n",
    "result = re.findall(pattern,data)\n",
    "result"
   ]
  },
  {
   "cell_type": "code",
   "execution_count": 90,
   "id": "e394a015-d1e5-4ed6-bd19-cdf576fc619a",
   "metadata": {},
   "outputs": [
    {
     "name": "stdout",
     "output_type": "stream",
     "text": [
      "Found 'Python' at position 0 and ends at 6\n",
      "Found 'Python' at position 15 and ends at 21\n"
     ]
    }
   ],
   "source": [
    "#Examples \n",
    "text = \"Python is fun. Python is powerful.\"\n",
    "pattern = r\"Python\"\n",
    "\n",
    "# finditer() returns an iterator of match objects\n",
    "matches = re.finditer(pattern, text)\n",
    "\n",
    "# Loop through each match object\n",
    "for match in matches:\n",
    "    print(f\"Found '{match.group()}' at position {match.start()} and ends at {match.end()}\")"
   ]
  },
  {
   "cell_type": "code",
   "execution_count": 102,
   "id": "142c8349-59af-401b-b0bb-bcbf8b03ad32",
   "metadata": {},
   "outputs": [
    {
     "name": "stdout",
     "output_type": "stream",
     "text": [
      "Email found: john@example.com (from 14 to 30)\n",
      "Email found: support@company.org (from 34 to 53)\n"
     ]
    }
   ],
   "source": [
    "#Example \n",
    "text = \"Contact me at john@example.com or support@company.org\"\n",
    "pattern = r'\\b[\\w.-]+@[\\w.-]+\\.\\w+\\b'\n",
    "\n",
    "for match in re.finditer(pattern, text):\n",
    "    print(f\"Email found: {match.group()} (from {match.start()} to {match.end()})\")"
   ]
  },
  {
   "cell_type": "code",
   "execution_count": 98,
   "id": "59be2cca-e8fd-4bf8-b739-2365971d3f7a",
   "metadata": {},
   "outputs": [
    {
     "name": "stdout",
     "output_type": "stream",
     "text": [
      "John is 30 years old\n",
      "found: 30\n",
      "Alice is 25 years old\n",
      "found: 25\n",
      "Bob is 42 years old\n",
      "found: 42\n"
     ]
    }
   ],
   "source": [
    "#example\n",
    "text = \"John: 30, Alice: 25, Bob: 42\"\n",
    "pattern = r'(\\w+): (\\d+)'  # name: age\n",
    "\n",
    "for match in re.finditer(pattern, text):\n",
    "    print(f\"{match.group(1)} is {match.group(2)} years old\")\n",
    "    print(f\"found: {match.group(2)}\")"
   ]
  },
  {
   "cell_type": "code",
   "execution_count": null,
   "id": "dd4fdc5b-9989-4a61-a66c-2b4bcb485171",
   "metadata": {},
   "outputs": [],
   "source": []
  }
 ],
 "metadata": {
  "kernelspec": {
   "display_name": "Python 3 (ipykernel)",
   "language": "python",
   "name": "python3"
  },
  "language_info": {
   "codemirror_mode": {
    "name": "ipython",
    "version": 3
   },
   "file_extension": ".py",
   "mimetype": "text/x-python",
   "name": "python",
   "nbconvert_exporter": "python",
   "pygments_lexer": "ipython3",
   "version": "3.12.7"
  }
 },
 "nbformat": 4,
 "nbformat_minor": 5
}
