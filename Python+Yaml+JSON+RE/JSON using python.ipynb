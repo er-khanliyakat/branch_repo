{
 "cells": [
  {
   "cell_type": "code",
   "execution_count": 3,
   "id": "5cc00263-7a90-405e-a297-84731a280ca8",
   "metadata": {},
   "outputs": [],
   "source": [
    "import json"
   ]
  },
  {
   "cell_type": "code",
   "execution_count": 6,
   "id": "b2acba3d-b60b-4a3e-979a-d6728b2b7d52",
   "metadata": {},
   "outputs": [
    {
     "name": "stdout",
     "output_type": "stream",
     "text": [
      "students.json created with multiple records \n"
     ]
    }
   ],
   "source": [
    "#create list of dictionaries\n",
    "students = [{\"name\":\"Umer\",\"age\":20,\"grade\":'A'},\n",
    "            {\"name\":\"ABC\",\"age\":23,\"grade\":\"C\"},\n",
    "           {\"name\":\"def\",\"age\":25,\"grade\":\"A++\"}\n",
    "           ]\n",
    "with open(\"students.json\",\"w\") as file:\n",
    "    json.dump(students,file,indent=4)\n",
    "print(\"students.json created with multiple records \")"
   ]
  },
  {
   "cell_type": "code",
   "execution_count": 8,
   "id": "fd1789cd-2863-44bb-abd7-fbaa56c5d7c2",
   "metadata": {},
   "outputs": [
    {
     "name": "stdout",
     "output_type": "stream",
     "text": [
      "students.json created with multiple records \n"
     ]
    }
   ],
   "source": [
    "#create list of dictionaries\n",
    "students = [{\"name\":\"Umer\",\"age\":20,\"grade\":'A',\"subjects\":[\"maths\",\"urdu\",\"science\"]},\n",
    "            {\"name\":\"ABC\",\"age\":23,\"grade\":\"C\"},\n",
    "           {\"name\":\"def\",\"age\":25,\"grade\":\"A++\"}\n",
    "           ]\n",
    "with open(\"students.json\",\"w\") as file:\n",
    "    json.dump(students,file,indent=4)\n",
    "print(\"students.json created with multiple records \")"
   ]
  },
  {
   "cell_type": "code",
   "execution_count": 5,
   "id": "9085358f-3207-4350-8cd2-29ed79a026a1",
   "metadata": {},
   "outputs": [
    {
     "ename": "NameError",
     "evalue": "name 'students' is not defined",
     "output_type": "error",
     "traceback": [
      "\u001b[1;31m---------------------------------------------------------------------------\u001b[0m",
      "\u001b[1;31mNameError\u001b[0m                                 Traceback (most recent call last)",
      "Cell \u001b[1;32mIn[5], line 8\u001b[0m\n\u001b[0;32m      2\u001b[0m books \u001b[38;5;241m=\u001b[39m {\n\u001b[0;32m      3\u001b[0m     \u001b[38;5;124m\"\u001b[39m\u001b[38;5;124mbook1\u001b[39m\u001b[38;5;124m\"\u001b[39m:{\u001b[38;5;124m\"\u001b[39m\u001b[38;5;124mtitle\u001b[39m\u001b[38;5;124m\"\u001b[39m:\u001b[38;5;124m\"\u001b[39m\u001b[38;5;124mpython programming\u001b[39m\u001b[38;5;124m\"\u001b[39m,\u001b[38;5;124m\"\u001b[39m\u001b[38;5;124mauthor\u001b[39m\u001b[38;5;124m\"\u001b[39m:\u001b[38;5;124m\"\u001b[39m\u001b[38;5;124mKanetkar\u001b[39m\u001b[38;5;124m\"\u001b[39m},\n\u001b[0;32m      4\u001b[0m     \u001b[38;5;124m\"\u001b[39m\u001b[38;5;124mbook2\u001b[39m\u001b[38;5;124m\"\u001b[39m:{\u001b[38;5;124m\"\u001b[39m\u001b[38;5;124mtitle\u001b[39m\u001b[38;5;124m\"\u001b[39m:\u001b[38;5;124m\"\u001b[39m\u001b[38;5;124mMathematics\u001b[39m\u001b[38;5;124m\"\u001b[39m,\u001b[38;5;124m\"\u001b[39m\u001b[38;5;124mAuthor\u001b[39m\u001b[38;5;124m\"\u001b[39m:\u001b[38;5;124m\"\u001b[39m\u001b[38;5;124mAPJ abdul kalam\u001b[39m\u001b[38;5;124m\"\u001b[39m}\n\u001b[0;32m      5\u001b[0m     \n\u001b[0;32m      6\u001b[0m }\n\u001b[0;32m      7\u001b[0m \u001b[38;5;28;01mwith\u001b[39;00m \u001b[38;5;28mopen\u001b[39m(\u001b[38;5;124m\"\u001b[39m\u001b[38;5;124mbooks.json\u001b[39m\u001b[38;5;124m\"\u001b[39m,\u001b[38;5;124m\"\u001b[39m\u001b[38;5;124mw\u001b[39m\u001b[38;5;124m\"\u001b[39m) \u001b[38;5;28;01mas\u001b[39;00m file:\n\u001b[1;32m----> 8\u001b[0m     json\u001b[38;5;241m.\u001b[39mdump(students,file,indent\u001b[38;5;241m=\u001b[39m\u001b[38;5;241m4\u001b[39m)\n\u001b[0;32m      9\u001b[0m \u001b[38;5;28mprint\u001b[39m(\u001b[38;5;124m\"\u001b[39m\u001b[38;5;124mstudents.json created with multiple records \u001b[39m\u001b[38;5;124m\"\u001b[39m)\n",
      "\u001b[1;31mNameError\u001b[0m: name 'students' is not defined"
     ]
    }
   ],
   "source": [
    "##create list of dictionaries\n",
    "books = {\n",
    "    \"book1\":{\"title\":\"python programming\",\"author\":\"Kanetkar\"},\n",
    "    \"book2\":{\"title\":\"Mathematics\",\"Author\":\"APJ abdul kalam\"}\n",
    "    \n",
    "}\n",
    "with open(\"books.json\",\"w\") as file:\n",
    "    json.dump(students,file,indent=4)\n",
    "print(\"students.json created with multiple records \")"
   ]
  },
  {
   "cell_type": "code",
   "execution_count": null,
   "id": "91f2da3d-9737-4a0b-b68d-8ee97099ff8d",
   "metadata": {},
   "outputs": [],
   "source": []
  }
 ],
 "metadata": {
  "kernelspec": {
   "display_name": "Python 3 (ipykernel)",
   "language": "python",
   "name": "python3"
  },
  "language_info": {
   "codemirror_mode": {
    "name": "ipython",
    "version": 3
   },
   "file_extension": ".py",
   "mimetype": "text/x-python",
   "name": "python",
   "nbconvert_exporter": "python",
   "pygments_lexer": "ipython3",
   "version": "3.12.7"
  }
 },
 "nbformat": 4,
 "nbformat_minor": 5
}
