{
 "cells": [
  {
   "cell_type": "code",
   "execution_count": 1,
   "id": "8a32ad8d-8e74-4e5a-92ae-a60b1591e5cc",
   "metadata": {},
   "outputs": [
    {
     "name": "stdout",
     "output_type": "stream",
     "text": [
      "✅ Valid JSON file\n"
     ]
    },
    {
     "data": {
      "text/plain": [
       "True"
      ]
     },
     "execution_count": 1,
     "metadata": {},
     "output_type": "execute_result"
    }
   ],
   "source": [
    "import json\n",
    "\n",
    "def validate_json_file(file_path):\n",
    "    try:\n",
    "        with open(file_path, 'r') as file:\n",
    "            data = json.load(file)\n",
    "        print(\"✅ Valid JSON file\")\n",
    "        return True\n",
    "    except json.JSONDecodeError as e:\n",
    "        print(\"❌ Invalid JSON:\", e)\n",
    "        return False\n",
    "    except FileNotFoundError:\n",
    "        print(\"❌ File not found\")\n",
    "        return False\n",
    "\n",
    "# Example usage\n",
    "validate_json_file(\"basic.json\")\n"
   ]
  },
  {
   "cell_type": "code",
   "execution_count": 3,
   "id": "8417a9dc-f1dc-4f0b-a443-c11cc7bcba4a",
   "metadata": {},
   "outputs": [
    {
     "name": "stdout",
     "output_type": "stream",
     "text": [
      "\n",
      "===== Student Records Menu =====\n",
      "1. Add Student\n",
      "2. View Students\n",
      "3. Search Student\n",
      "4. Update Marks\n",
      "5. Delete Student\n",
      "6. Exit\n"
     ]
    },
    {
     "name": "stdin",
     "output_type": "stream",
     "text": [
      "Enter choice:  2\n"
     ]
    },
    {
     "name": "stdout",
     "output_type": "stream",
     "text": [
      "No student records found.\n",
      "\n",
      "===== Student Records Menu =====\n",
      "1. Add Student\n",
      "2. View Students\n",
      "3. Search Student\n",
      "4. Update Marks\n",
      "5. Delete Student\n",
      "6. Exit\n"
     ]
    },
    {
     "name": "stdin",
     "output_type": "stream",
     "text": [
      "Enter choice:  1\n",
      "Enter ID:  12\n",
      "Enter Name:  Liyakay\n",
      "Enter Marks:  234\n"
     ]
    },
    {
     "name": "stdout",
     "output_type": "stream",
     "text": [
      "Student added successfully!\n",
      "\n",
      "===== Student Records Menu =====\n",
      "1. Add Student\n",
      "2. View Students\n",
      "3. Search Student\n",
      "4. Update Marks\n",
      "5. Delete Student\n",
      "6. Exit\n"
     ]
    },
    {
     "name": "stdin",
     "output_type": "stream",
     "text": [
      "Enter choice:  2\n"
     ]
    },
    {
     "name": "stdout",
     "output_type": "stream",
     "text": [
      "{'id': 12, 'name': 'Liyakay', 'marks': 234}\n",
      "\n",
      "===== Student Records Menu =====\n",
      "1. Add Student\n",
      "2. View Students\n",
      "3. Search Student\n",
      "4. Update Marks\n",
      "5. Delete Student\n",
      "6. Exit\n"
     ]
    },
    {
     "name": "stdin",
     "output_type": "stream",
     "text": [
      "Enter choice:  5\n",
      "Enter ID to delete:  12\n"
     ]
    },
    {
     "name": "stdout",
     "output_type": "stream",
     "text": [
      "Student deleted.\n",
      "\n",
      "===== Student Records Menu =====\n",
      "1. Add Student\n",
      "2. View Students\n",
      "3. Search Student\n",
      "4. Update Marks\n",
      "5. Delete Student\n",
      "6. Exit\n"
     ]
    },
    {
     "name": "stdin",
     "output_type": "stream",
     "text": [
      "Enter choice:  exit\n"
     ]
    },
    {
     "name": "stdout",
     "output_type": "stream",
     "text": [
      "Invalid choice!\n",
      "\n",
      "===== Student Records Menu =====\n",
      "1. Add Student\n",
      "2. View Students\n",
      "3. Search Student\n",
      "4. Update Marks\n",
      "5. Delete Student\n",
      "6. Exit\n"
     ]
    },
    {
     "name": "stdin",
     "output_type": "stream",
     "text": [
      "Enter choice:  6\n"
     ]
    },
    {
     "name": "stdout",
     "output_type": "stream",
     "text": [
      "Records saved. Exiting...\n"
     ]
    }
   ],
   "source": [
    "import json\n",
    "import os\n",
    "\n",
    "FILENAME = \"student_records.json\"\n",
    "\n",
    "# Load records from file\n",
    "def load_records():\n",
    "    if os.path.exists(FILENAME):\n",
    "        with open(FILENAME, \"r\") as f:\n",
    "            return json.load(f)\n",
    "    return []\n",
    "\n",
    "# Save records to file\n",
    "def save_records(records):\n",
    "    with open(FILENAME, \"w\") as f:\n",
    "        json.dump(records, f, indent=4)\n",
    "\n",
    "# Add a new student\n",
    "def add_student(records):\n",
    "    student = {}\n",
    "    student['id'] = int(input(\"Enter ID: \"))\n",
    "    student['name'] = input(\"Enter Name: \")\n",
    "    student['marks'] = int(input(\"Enter Marks: \"))\n",
    "    records.append(student)\n",
    "    print(\"Student added successfully!\")\n",
    "\n",
    "# View all students\n",
    "def view_students(records):\n",
    "    if not records:\n",
    "        print(\"No student records found.\")\n",
    "    for student in records:\n",
    "        print(student)\n",
    "\n",
    "# Search student by ID\n",
    "def search_student(records):\n",
    "    sid = int(input(\"Enter Student ID to search: \"))\n",
    "    for student in records:\n",
    "        if student['id'] == sid:\n",
    "            print(\"Student Found:\", student)\n",
    "            return\n",
    "    print(\"Student not found.\")\n",
    "\n",
    "# Update marks\n",
    "def update_marks(records):\n",
    "    sid = int(input(\"Enter ID to update marks: \"))\n",
    "    for student in records:\n",
    "        if student['id'] == sid:\n",
    "            new_marks = int(input(\"Enter new marks: \"))\n",
    "            student['marks'] = new_marks\n",
    "            print(\"Marks updated!\")\n",
    "            return\n",
    "    print(\"Student not found.\")\n",
    "\n",
    "# Delete student\n",
    "def delete_student(records):\n",
    "    sid = int(input(\"Enter ID to delete: \"))\n",
    "    for i, student in enumerate(records):\n",
    "        if student['id'] == sid:\n",
    "            del records[i]\n",
    "            print(\"Student deleted.\")\n",
    "            return\n",
    "    print(\"Student not found.\")\n",
    "\n",
    "# Menu-driven interface\n",
    "def main():\n",
    "    records = load_records()\n",
    "\n",
    "    while True:\n",
    "        print(\"\\n===== Student Records Menu =====\")\n",
    "        print(\"1. Add Student\")\n",
    "        print(\"2. View Students\")\n",
    "        print(\"3. Search Student\")\n",
    "        print(\"4. Update Marks\")\n",
    "        print(\"5. Delete Student\")\n",
    "        print(\"6. Exit\")\n",
    "        choice = input(\"Enter choice: \")\n",
    "\n",
    "        if choice == '1':\n",
    "            add_student(records)\n",
    "        elif choice == '2':\n",
    "            view_students(records)\n",
    "        elif choice == '3':\n",
    "            search_student(records)\n",
    "        elif choice == '4':\n",
    "            update_marks(records)\n",
    "        elif choice == '5':\n",
    "            delete_student(records)\n",
    "        elif choice == '6':\n",
    "            save_records(records)\n",
    "            print(\"Records saved. Exiting...\")\n",
    "            break\n",
    "        else:\n",
    "            print(\"Invalid choice!\")\n",
    "\n",
    "if __name__ == \"__main__\":\n",
    "    main()\n"
   ]
  },
  {
   "cell_type": "code",
   "execution_count": null,
   "id": "181b656a-1877-4d63-b4d8-0aded2ffbd9c",
   "metadata": {},
   "outputs": [],
   "source": []
  }
 ],
 "metadata": {
  "kernelspec": {
   "display_name": "Python 3 (ipykernel)",
   "language": "python",
   "name": "python3"
  },
  "language_info": {
   "codemirror_mode": {
    "name": "ipython",
    "version": 3
   },
   "file_extension": ".py",
   "mimetype": "text/x-python",
   "name": "python",
   "nbconvert_exporter": "python",
   "pygments_lexer": "ipython3",
   "version": "3.12.7"
  }
 },
 "nbformat": 4,
 "nbformat_minor": 5
}
