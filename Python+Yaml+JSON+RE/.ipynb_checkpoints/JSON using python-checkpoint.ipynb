{
 "cells": [
  {
   "cell_type": "code",
   "execution_count": 2,
   "id": "5cc00263-7a90-405e-a297-84731a280ca8",
   "metadata": {},
   "outputs": [],
   "source": [
    "import json"
   ]
  },
  {
   "cell_type": "code",
   "execution_count": 6,
   "id": "b2acba3d-b60b-4a3e-979a-d6728b2b7d52",
   "metadata": {},
   "outputs": [
    {
     "name": "stdout",
     "output_type": "stream",
     "text": [
      "students.json created with multiple records \n"
     ]
    }
   ],
   "source": [
    "#create list of dictionaries\n",
    "students = [{\"name\":\"Umer\",\"age\":20,\"grade\":'A'},\n",
    "            {\"name\":\"ABC\",\"age\":23,\"grade\":\"C\"},\n",
    "           {\"name\":\"def\",\"age\":25,\"grade\":\"A++\"}\n",
    "           ]\n",
    "with open(\"students.json\",\"w\") as file:\n",
    "    json.dump(students,file,indent=4)\n",
    "print(\"students.json created with multiple records \")"
   ]
  },
  {
   "cell_type": "code",
   "execution_count": 8,
   "id": "fd1789cd-2863-44bb-abd7-fbaa56c5d7c2",
   "metadata": {},
   "outputs": [
    {
     "name": "stdout",
     "output_type": "stream",
     "text": [
      "students.json created with multiple records \n"
     ]
    }
   ],
   "source": [
    "#create list of dictionaries\n",
    "students = [{\"name\":\"Umer\",\"age\":20,\"grade\":'A',\"subjects\":[\"maths\",\"urdu\",\"science\"]},\n",
    "            {\"name\":\"ABC\",\"age\":23,\"grade\":\"C\"},\n",
    "           {\"name\":\"def\",\"age\":25,\"grade\":\"A++\"}\n",
    "           ]\n",
    "with open(\"students.json\",\"w\") as file:\n",
    "    json.dump(students,file,indent=4)\n",
    "print(\"students.json created with multiple records \")"
   ]
  },
  {
   "cell_type": "code",
   "execution_count": null,
   "id": "9085358f-3207-4350-8cd2-29ed79a026a1",
   "metadata": {},
   "outputs": [],
   "source": [
    "##create list of dictionaries\n",
    "books = {\n",
    "    \"book1\":{\"title\":\"python programming\",\"author\":\"Kanetkar\"},\n",
    "    \"book2\":{\"title\":\"Mathematics\",\"Author\":\"APJ abdul kalam\"}\n",
    "    \n",
    "}\n",
    "with open(\"books.json\",\"w\") as file:\n",
    "    json.dump(students,file,indent=4)\n",
    "print(\"students.json created with multiple records \")"
   ]
  }
 ],
 "metadata": {
  "kernelspec": {
   "display_name": "Python 3 (ipykernel)",
   "language": "python",
   "name": "python3"
  },
  "language_info": {
   "codemirror_mode": {
    "name": "ipython",
    "version": 3
   },
   "file_extension": ".py",
   "mimetype": "text/x-python",
   "name": "python",
   "nbconvert_exporter": "python",
   "pygments_lexer": "ipython3",
   "version": "3.12.7"
  }
 },
 "nbformat": 4,
 "nbformat_minor": 5
}
