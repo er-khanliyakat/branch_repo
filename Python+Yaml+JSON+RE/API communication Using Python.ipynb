{
 "cells": [
  {
   "cell_type": "markdown",
   "id": "853ef289-13f3-41ee-a34e-18117cc45981",
   "metadata": {},
   "source": [
    "## API Communication Using Python\n",
    "- API (Application Programming Interface) communication is a fundamental skill for modern Python developers. \n"
   ]
  },
  {
   "cell_type": "markdown",
   "id": "eda6e345-c4fe-4750-86a0-65bb63938203",
   "metadata": {},
   "source": [
    "### An API is like a bridge or messenger that lets two applications talk to each other.\n",
    "\n",
    "- 🔸 Real-Life Example:\n",
    "- Imagine you’re ordering food from Zomato:\n",
    "- The app is the client (you).\n",
    "- The restaurant’s kitchen is the server.\n",
    "- The waiter is the API, taking your order and bringing food.\n",
    "\n",
    "### 🔸 Technical Example:\n",
    "- A mobile weather app uses an API to request temperature data from a remote server. The server sends back the data in a structured format (usually JSON), and the app shows it on your screen."
   ]
  },
  {
   "cell_type": "markdown",
   "id": "354f54c9-da5d-46d8-b01a-4ec2199801c8",
   "metadata": {},
   "source": [
    "## Real-Life Example 1: Checking Weather in Your App\n",
    "- 🧠 In Real Life:\n",
    "- You open a weather app and it shows:\n",
    "- Location: Mumbai\n",
    "- Weather: Rainy\n",
    "- Temperature: 30°C\n",
    "  \n",
    "- <b> 💡 What's Happening Behind the Scenes:</b>\n",
    "- Your app sends a GET request to the OpenWeatherMap API using the city name.\n",
    "- The API sends back weather data in JSON.\n",
    "- Python reads the JSON and displays it."
   ]
  },
  {
   "cell_type": "markdown",
   "id": "f012eb3f-bbdc-49e1-989f-681da97d4399",
   "metadata": {},
   "source": [
    "### How Do We Use APIs in Python?\n",
    "- We use the requests library in Python to:\n",
    "- Send a request to the API (like: give me today’s weather)\n",
    "- Receive a response (like: 30°C, cloudy)\n",
    "- Handle data (usually in JSON format)"
   ]
  },
  {
   "cell_type": "markdown",
   "id": "9344a787-c251-4838-8651-97b4395c95f6",
   "metadata": {},
   "source": [
    "### HTTP\n",
    "- HTTP = HyperText Transfer Protocol\n",
    "- It’s the language of the internet — it allows your browser or app to send and receive data from servers.\n",
    "\n",
    "- APIs work over the internet using HTTP."
   ]
  },
  {
   "cell_type": "markdown",
   "id": "c796f0ff-acd0-4894-97be-9d879954e0ab",
   "metadata": {},
   "source": [
    "###### When You Open a Website:\n",
    "###### Your browser sends a GET request to the website server using HTTP, and the server sends back the HTML page.\n",
    "\n",
    "###### Similarly, Python can send a request using HTTP to an API and get a response."
   ]
  },
  {
   "cell_type": "markdown",
   "id": "220880c1-9a4e-4b92-bd52-edb22bc252cf",
   "metadata": {},
   "source": [
    "## What is an HTTP Request?\n",
    "- A request is a message your app or script sends to the API. It usually has:\n",
    "\n",
    "- 🔹 A URL (address of the API)\n",
    "\n",
    "- 🔹 A method (GET, POST, etc.)\n",
    "\n",
    "- 🔹 Optional data (like form values, text)\n",
    "\n",
    "- 🔹 Optional headers (like API keys)"
   ]
  },
  {
   "cell_type": "markdown",
   "id": "8008d7d9-a52c-4ea4-a6ff-d5b747c7ef6c",
   "metadata": {},
   "source": [
    "## What is an HTTP Response?\n",
    "- After you send a request, the API sends back a response.\n",
    "\n",
    "- The response includes:\n",
    "\n",
    "- ✅ A status code (like 200 OK, 404 not found)\n",
    "\n",
    "- ✅ The data you asked for (usually in JSON format)"
   ]
  },
  {
   "cell_type": "markdown",
   "id": "2dae837c-366c-4006-9d60-4413acde717f",
   "metadata": {},
   "source": [
    "## HTTP Methods You Must Know"
   ]
  },
  {
   "cell_type": "markdown",
   "id": "5f95c5f3-9820-4f52-801e-851f56a700a4",
   "metadata": {},
   "source": [
    "<table>\n",
    "  <thead>\n",
    "    <tr>\n",
    "      <th>Method</th>\n",
    "      <th>What It Does</th>\n",
    "      <th>Python Use</th>\n",
    "    </tr>\n",
    "  </thead>\n",
    "  <tbody>\n",
    "    <tr>\n",
    "      <td>GET</td>\n",
    "      <td>Gets data from the server</td>\n",
    "      <td><code>requests.get()</code></td>\n",
    "    </tr>\n",
    "    <tr>\n",
    "      <td>POST</td>\n",
    "      <td>Sends new data to the server</td>\n",
    "      <td><code>requests.post()</code></td>\n",
    "    </tr>\n",
    "    <tr>\n",
    "      <td>PUT</td>\n",
    "      <td>Updates existing data</td>\n",
    "      <td><code>requests.put()</code></td>\n",
    "    </tr>\n",
    "    <tr>\n",
    "      <td>DELETE</td>\n",
    "      <td>Deletes data</td>\n",
    "      <td><code>requests.delete()</code></td>\n",
    "    </tr>\n",
    "  </tbody>\n",
    "</table>\n"
   ]
  },
  {
   "cell_type": "code",
   "execution_count": 5,
   "id": "59855627-8fdd-4897-a6a4-8505a76b2234",
   "metadata": {},
   "outputs": [
    {
     "name": "stdout",
     "output_type": "stream",
     "text": [
      "Here’s a joke for you: Have a great weekend!\n",
      "I hope your code behaves the same on Monday as it did on Friday.\n"
     ]
    }
   ],
   "source": [
    "import requests\n",
    "\n",
    "url = \"https://v2.jokeapi.dev/joke/Any?type=single\"\n",
    "response = requests.get(url)\n",
    "data = response.json()\n",
    "print(\"Here’s a joke for you:\", data[\"joke\"])\n"
   ]
  },
  {
   "cell_type": "code",
   "execution_count": 30,
   "id": "c6cd52cc-411b-4b81-b622-d860cd8be731",
   "metadata": {},
   "outputs": [
    {
     "name": "stdout",
     "output_type": "stream",
     "text": [
      "{'gender': 'female', 'name': {'title': 'Mrs', 'first': 'Alexandra', 'last': 'Wood'}, 'location': {'street': {'number': 3134, 'name': 'Anzac Parade'}, 'city': 'Timaru', 'state': 'Taranaki', 'country': 'New Zealand', 'postcode': 40774, 'coordinates': {'latitude': '-6.2983', 'longitude': '2.8745'}, 'timezone': {'offset': '+6:00', 'description': 'Almaty, Dhaka, Colombo'}}, 'email': 'alexandra.wood@example.com', 'login': {'uuid': '3535e50b-f136-49b3-8f10-fd084af7a30c', 'username': 'goldenpeacock180', 'password': 'cooler', 'salt': 'nk8tB18E', 'md5': '19089989f9023c910af04c142adf026c', 'sha1': 'e84d39461bf43e02f5f1864dbaaa099037af90c4', 'sha256': 'e7cf53e9259d2c332ef814e9d5720bb9e5905d91873fb05b1418b61828224eec'}, 'dob': {'date': '1950-07-18T06:31:09.984Z', 'age': 72}, 'registered': {'date': '2020-12-03T15:47:53.690Z', 'age': 2}, 'phone': '(562)-432-4644', 'cell': '(996)-507-7300', 'id': 456, 'picture': {'large': 'https://randomuser.me/api/portraits/women/45.jpg', 'medium': 'https://randomuser.me/api/portraits/med/women/45.jpg', 'thumbnail': 'https://randomuser.me/api/portraits/thumb/women/45.jpg'}, 'nat': 'NZ'}\n"
     ]
    }
   ],
   "source": [
    "# /public/randomusers/user/random\n",
    "import requests\n",
    "\n",
    "url = \"https://api.freeapi.app/api/v1/public/randomusers/user/random\"\n",
    "response = requests.get(url)\n",
    "data = response.json()\n",
    "print(data[\"data\"])"
   ]
  },
  {
   "cell_type": "code",
   "execution_count": 37,
   "id": "9268f30d-bd87-41a4-a581-88645b9cfbde",
   "metadata": {},
   "outputs": [
    {
     "name": "stdout",
     "output_type": "stream",
     "text": [
      "{'type': 'general', 'setup': 'Two guys walk into a bar . . .', 'punchline': 'The first guy says \"Ouch!\" and the second says \"Yeah, I didn\\'t see it either.\"', 'id': 365}\n",
      "Setup: Two guys walk into a bar . . .\n",
      "Punchline: The first guy says \"Ouch!\" and the second says \"Yeah, I didn't see it either.\"\n"
     ]
    }
   ],
   "source": [
    "import requests\n",
    "\n",
    "response = requests.get(\"https://official-joke-api.appspot.com/random_joke\")\n",
    "joke = response.json()\n",
    "print(joke)\n",
    "print(\"Setup:\", joke[\"setup\"])\n",
    "print(\"Punchline:\", joke[\"punchline\"])\n"
   ]
  },
  {
   "cell_type": "code",
   "execution_count": 43,
   "id": "77f63605-d3b3-499d-8afc-8e8e54f5ddba",
   "metadata": {},
   "outputs": [
    {
     "name": "stdout",
     "output_type": "stream",
     "text": [
      "{'latitude': 35.0, 'longitude': 139.0, 'generationtime_ms': 0.037789344787597656, 'utc_offset_seconds': 0, 'timezone': 'GMT', 'timezone_abbreviation': 'GMT', 'elevation': 234.0, 'current_weather_units': {'time': 'iso8601', 'interval': 'seconds', 'temperature': '°C', 'windspeed': 'km/h', 'winddirection': '°', 'is_day': '', 'weathercode': 'wmo code'}, 'current_weather': {'time': '2025-08-04T14:45', 'interval': 900, 'temperature': 25.9, 'windspeed': 11.2, 'winddirection': 268, 'is_day': 0, 'weathercode': 1}}\n",
      "Temperature: 25.9\n",
      "Windspeed: 11.2\n",
      "Weather Code: 1\n"
     ]
    }
   ],
   "source": [
    "import requests\n",
    "\n",
    "url = \"https://api.open-meteo.com/v1/forecast?latitude=35&longitude=139&current_weather=true\"\n",
    "response = requests.get(url)\n",
    "data = response.json()\n",
    "print(data)\n",
    "weather = data[\"current_weather\"]\n",
    "print(\"Temperature:\", weather[\"temperature\"])\n",
    "print(\"Windspeed:\", weather[\"windspeed\"])\n",
    "print(\"Weather Code:\", weather[\"weathercode\"])\n"
   ]
  },
  {
   "cell_type": "code",
   "execution_count": 10,
   "id": "6360081c-bbbf-4492-89fa-2a8b9d691d4c",
   "metadata": {},
   "outputs": [
    {
     "name": "stdout",
     "output_type": "stream",
     "text": [
      "<Response [200]>\n",
      "{'count': 11014, 'name': 'raj', 'age': 53}\n"
     ]
    }
   ],
   "source": [
    "\n",
    "# URL of the API\n",
    "url = \"https://api.agify.io?name=raj\"\n",
    "\n",
    "# Sending GET request\n",
    "response = requests.get(url)\n",
    "print(response)\n",
    "# Convert the response to JSON (like a dictionary)\n",
    "data = response.json()\n",
    "\n",
    "# Print the data\n",
    "print(data)\n"
   ]
  },
  {
   "cell_type": "markdown",
   "id": "2714e308-a101-4d9f-b72c-f0bdbf919ef5",
   "metadata": {},
   "source": [
    "## POST\n",
    "#### A POST request, in simple terms, is a way for you to send data to a destination with the help of the internet.\n",
    "\n",
    "\n",
    "- Used to create new data\n",
    "- Like writing a new book"
   ]
  },
  {
   "cell_type": "code",
   "execution_count": 15,
   "id": "1ac48722-2085-41d8-b1c1-6ed44a0d6956",
   "metadata": {},
   "outputs": [
    {
     "name": "stdout",
     "output_type": "stream",
     "text": [
      "200\n",
      "{'statusCode': 200, 'data': {'method': 'POST', 'headers': {'connection': 'upgrade', 'host': 'api.freeapi.app', 'x-real-ip': '117.96.40.8', 'x-forwarded-for': '117.96.40.8', 'content-length': '95', 'user-agent': 'python-requests/2.32.3', 'accept-encoding': 'gzip, deflate, br, zstd', 'accept': '*/*', 'content-type': 'application/json'}, 'origin': '::ffff:172.24.0.3', 'url': 'http://api.freeapi.app/api/v1/kitchen-sink/http-methods/post'}, 'message': 'POST request', 'success': True}\n"
     ]
    }
   ],
   "source": [
    "import requests\n",
    "\n",
    "# URL for creating a post\n",
    "url = \"https://api.freeapi.app/api/v1/kitchen-sink/http-methods/post\"\n",
    "\n",
    "# Data to send (body of the POST request)\n",
    "data = {\n",
    "    \"title\": \"My First Post!\",\n",
    "    \"body\": \"I'm learning how to use APIs with Python!\",\n",
    "    \"userId\": 123  # Can be any number\n",
    "}\n",
    "\n",
    "# Send the POST request\n",
    "response = requests.post(url, json=data)\n",
    "\n",
    "# Get the result\n",
    "print(response.status_code)\n",
    "print(response.json())\n"
   ]
  },
  {
   "cell_type": "markdown",
   "id": "b64730d0-2719-49a2-b75b-afefe1c4fe0a",
   "metadata": {},
   "source": [
    "## PUT\n",
    "- PUT is used to completely update an existing post.\n",
    "- You must provide the post ID (which was created earlier) and the full updated data.\n",
    "\n"
   ]
  },
  {
   "cell_type": "code",
   "execution_count": 33,
   "id": "127ab472-9017-4a10-9624-15d38bc99dc8",
   "metadata": {},
   "outputs": [
    {
     "name": "stdout",
     "output_type": "stream",
     "text": [
      "Status Code: 200\n",
      "{'statusCode': 200, 'data': {'method': 'PUT', 'headers': {'connection': 'upgrade', 'host': 'api.freeapi.app', 'x-real-ip': '117.96.40.8', 'x-forwarded-for': '117.96.40.8', 'content-length': '66', 'user-agent': 'python-requests/2.32.3', 'accept-encoding': 'gzip, deflate, br, zstd', 'accept': '*/*', 'content-type': 'application/json'}, 'origin': '::ffff:172.25.0.3', 'url': 'http://api.freeapi.app/api/v1/kitchen-sink/http-methods/put'}, 'message': 'PUT request', 'success': True}\n"
     ]
    }
   ],
   "source": [
    "url = \"https://api.freeapi.app/api/v1/kitchen-sink/http-methods/put\"\n",
    "\n",
    "data = {\n",
    "    \"title\": \"Liyakat\",\n",
    "    \"Book\": \"Beautiful Thoughts.\",\n",
    "    \"userId\": 123\n",
    "}\n",
    "\n",
    "response = requests.put(url, json=data)\n",
    "\n",
    "print(\"Status Code:\", response.status_code)\n",
    "\n",
    "try:\n",
    "    print(response.json())\n",
    "except Exception as e:\n",
    "    print(\"Error parsing JSON:\", e)\n",
    "    print(\"Response text:\", response.text)\n"
   ]
  },
  {
   "cell_type": "markdown",
   "id": "cc053777-ac5e-41af-97b7-83a8b632e952",
   "metadata": {},
   "source": [
    "## GETTING IMAGES "
   ]
  },
  {
   "cell_type": "code",
   "execution_count": 84,
   "id": "9537c8ae-58c8-4cc9-94c7-04a7319ffb21",
   "metadata": {},
   "outputs": [
    {
     "name": "stdout",
     "output_type": "stream",
     "text": [
      "[{'id': '2ds', 'url': 'https://cdn2.thecatapi.com/images/2ds.jpg', 'width': 485, 'height': 402}, {'id': '43a', 'url': 'https://cdn2.thecatapi.com/images/43a.jpg', 'width': 500, 'height': 333}, {'id': '747', 'url': 'https://cdn2.thecatapi.com/images/747.jpg', 'width': 500, 'height': 375}, {'id': '76t', 'url': 'https://cdn2.thecatapi.com/images/76t.jpg', 'width': 500, 'height': 375}, {'id': 'cgq', 'url': 'https://cdn2.thecatapi.com/images/cgq.jpg', 'width': 640, 'height': 480}, {'id': 'cht', 'url': 'https://cdn2.thecatapi.com/images/cht.jpg', 'width': 560, 'height': 420}, {'id': 'd2o', 'url': 'https://cdn2.thecatapi.com/images/d2o.jpg', 'width': 500, 'height': 410}, {'id': 'd3i', 'url': 'https://cdn2.thecatapi.com/images/d3i.jpg', 'width': 426, 'height': 640}, {'id': 'MTcwODcyMQ', 'url': 'https://cdn2.thecatapi.com/images/MTcwODcyMQ.jpg', 'width': 1936, 'height': 2592}, {'id': 'MTkyOTQwNg', 'url': 'https://cdn2.thecatapi.com/images/MTkyOTQwNg.jpg', 'width': 1024, 'height': 1024}]\n"
     ]
    }
   ],
   "source": [
    "response = requests.get(\"https://api.thecatapi.com/v1/images/search?limit=10\")\n",
    "data=response.json()\n",
    "print(data)\n"
   ]
  },
  {
   "cell_type": "code",
   "execution_count": 86,
   "id": "c65205be-359a-4300-b4ce-cadb205e0ff8",
   "metadata": {},
   "outputs": [
    {
     "name": "stdout",
     "output_type": "stream",
     "text": [
      "https://cdn2.thecatapi.com/images/2ds.jpg\n",
      "https://cdn2.thecatapi.com/images/43a.jpg\n",
      "https://cdn2.thecatapi.com/images/747.jpg\n",
      "https://cdn2.thecatapi.com/images/76t.jpg\n",
      "https://cdn2.thecatapi.com/images/cgq.jpg\n",
      "https://cdn2.thecatapi.com/images/cht.jpg\n",
      "https://cdn2.thecatapi.com/images/d2o.jpg\n",
      "https://cdn2.thecatapi.com/images/d3i.jpg\n",
      "https://cdn2.thecatapi.com/images/MTcwODcyMQ.jpg\n",
      "https://cdn2.thecatapi.com/images/MTkyOTQwNg.jpg\n"
     ]
    }
   ],
   "source": [
    "for cat in data:\n",
    "    print(cat['url'])\n"
   ]
  },
  {
   "cell_type": "code",
   "execution_count": 88,
   "id": "a6b7bbf8-7abb-48a5-8d92-8a9e7c77bf75",
   "metadata": {},
   "outputs": [],
   "source": [
    "import webbrowser\n",
    "\n",
    "for cat in data:\n",
    "    webbrowser.open(cat['url'])\n"
   ]
  },
  {
   "cell_type": "markdown",
   "id": "9a96324b-61ad-4d7c-a8e9-0d244be19a05",
   "metadata": {},
   "source": [
    "## DELETE\n",
    "- <b> Purpose </b>: Tell the server to remove something.\n",
    "- Think of it like calling the admin of a website and saying: \"Please delete my account/post/file\"\n",
    "- Once deleted, the resource is usually gone (sometimes just marked as inactive).\n",
    "- Often used with resource ID in the URL."
   ]
  },
  {
   "cell_type": "code",
   "execution_count": 28,
   "id": "e846a509-ea4a-4ce9-9ea6-2ffa4cfab4a5",
   "metadata": {},
   "outputs": [
    {
     "name": "stdout",
     "output_type": "stream",
     "text": [
      "{'statusCode': 200, 'data': {'method': 'DELETE', 'headers': {'connection': 'upgrade', 'host': 'api.freeapi.app', 'x-real-ip': '117.96.40.8', 'x-forwarded-for': '117.96.40.8', 'content-length': '0', 'user-agent': 'python-requests/2.32.3', 'accept-encoding': 'gzip, deflate, br, zstd', 'accept': '*/*'}, 'origin': '::ffff:172.19.0.3', 'url': 'http://api.freeapi.app/api/v1/kitchen-sink/http-methods/delete'}, 'message': 'DELETE request', 'success': True}\n"
     ]
    }
   ],
   "source": [
    "import requests\n",
    "\n",
    "url = \"https://api.freeapi.app/api/v1/kitchen-sink/http-methods/delete\"\n",
    "response = requests.delete(url)\n",
    "data = response.json()\n",
    "print(data)\n"
   ]
  },
  {
   "cell_type": "code",
   "execution_count": 85,
   "id": "10e1b54c-c5e4-45ab-9414-cf3ed4d6d06d",
   "metadata": {},
   "outputs": [
    {
     "name": "stdout",
     "output_type": "stream",
     "text": [
      "\n"
     ]
    },
    {
     "data": {
      "text/plain": [
       "[{'gender': 'male',\n",
       "  'name': {'title': 'Mr', 'first': 'Joseph', 'last': 'Evans'},\n",
       "  'location': {'street': {'number': 61, 'name': 'Lunn Avenue'},\n",
       "   'city': 'Hastings',\n",
       "   'state': 'Otago',\n",
       "   'country': 'New Zealand',\n",
       "   'postcode': 92298,\n",
       "   'coordinates': {'latitude': '51.9039', 'longitude': '-45.2357'},\n",
       "   'timezone': {'offset': '-6:00',\n",
       "    'description': 'Central Time (US & Canada), Mexico City'}},\n",
       "  'email': 'joseph.evans@example.com',\n",
       "  'login': {'uuid': '9230749e-c285-41b4-9a0f-46dab2454b4e',\n",
       "   'username': 'angryzebra337',\n",
       "   'password': 'otis',\n",
       "   'salt': 'WiHweSpK',\n",
       "   'md5': '2cc09194861ea12e8e842cdce5749230',\n",
       "   'sha1': 'aa808f8a4f03df53a427905ae690c677b2d68895',\n",
       "   'sha256': 'c857e62a617c9015a05b9ecc7f63e05c90042bd79514ca49bacfdf7e97b482d8'},\n",
       "  'dob': {'date': '1968-07-21T10:02:51.768Z', 'age': 54},\n",
       "  'registered': {'date': '2019-01-31T10:09:35.816Z', 'age': 4},\n",
       "  'phone': '(612)-327-2806',\n",
       "  'cell': '(029)-082-3612',\n",
       "  'id': 1,\n",
       "  'picture': {'large': 'https://randomuser.me/api/portraits/men/65.jpg',\n",
       "   'medium': 'https://randomuser.me/api/portraits/med/men/65.jpg',\n",
       "   'thumbnail': 'https://randomuser.me/api/portraits/thumb/men/65.jpg'},\n",
       "  'nat': 'NZ'},\n",
       " {'gender': 'female',\n",
       "  'name': {'title': 'Ms', 'first': 'Hetal', 'last': 'Bharanya'},\n",
       "  'location': {'street': {'number': 234, 'name': 'Gali Paranthe Wali'},\n",
       "   'city': 'Howrah',\n",
       "   'state': 'Madhya Pradesh',\n",
       "   'country': 'India',\n",
       "   'postcode': 12054,\n",
       "   'coordinates': {'latitude': '-89.7659', 'longitude': '49.5620'},\n",
       "   'timezone': {'offset': '+4:30', 'description': 'Kabul'}},\n",
       "  'email': 'hetal.bharanya@example.com',\n",
       "  'login': {'uuid': '03e1e369-138c-442b-a046-904d1cc13d76',\n",
       "   'username': 'happygoose680',\n",
       "   'password': 'insanity',\n",
       "   'salt': 'rYfUWfpZ',\n",
       "   'md5': 'fa9549419b5ac6ca748d0513ec625553',\n",
       "   'sha1': 'b7f374368f6d8be2f9880037b5bf6c3c76c1db2e',\n",
       "   'sha256': '5c61e253e05d64a713020566d872b07890d74f347c430974c7e86897bf6ed781'},\n",
       "  'dob': {'date': '1990-10-29T13:51:49.805Z', 'age': 32},\n",
       "  'registered': {'date': '2007-04-04T09:22:55.620Z', 'age': 16},\n",
       "  'phone': '7517215828',\n",
       "  'cell': '8993504716',\n",
       "  'id': 2,\n",
       "  'picture': {'large': 'https://randomuser.me/api/portraits/women/47.jpg',\n",
       "   'medium': 'https://randomuser.me/api/portraits/med/women/47.jpg',\n",
       "   'thumbnail': 'https://randomuser.me/api/portraits/thumb/women/47.jpg'},\n",
       "  'nat': 'IN'},\n",
       " {'gender': 'female',\n",
       "  'name': {'title': 'Mrs', 'first': 'Tanja', 'last': 'Španović'},\n",
       "  'location': {'street': {'number': 1663, 'name': 'Vojvode Mišića'},\n",
       "   'city': 'Lebane',\n",
       "   'state': 'Prizren',\n",
       "   'country': 'Serbia',\n",
       "   'postcode': 88087,\n",
       "   'coordinates': {'latitude': '-26.3541', 'longitude': '52.2337'},\n",
       "   'timezone': {'offset': '-6:00',\n",
       "    'description': 'Central Time (US & Canada), Mexico City'}},\n",
       "  'email': 'tanja.spanovic@example.com',\n",
       "  'login': {'uuid': 'd37482c4-28c3-4d6e-b591-6c1a7059defc',\n",
       "   'username': 'greentiger564',\n",
       "   'password': 'calgary',\n",
       "   'salt': 'giy1GclZ',\n",
       "   'md5': 'ec60e7838514036315af596a3f465c3c',\n",
       "   'sha1': 'dd79140034db5b5fa55896f3a7dee55d3b3b384d',\n",
       "   'sha256': '42fdb899d4443d01815fb27c146223c2ad9ce9ad12fc488015c5cadd52881104'},\n",
       "  'dob': {'date': '1960-01-02T04:11:38.488Z', 'age': 63},\n",
       "  'registered': {'date': '2018-06-15T09:02:58.581Z', 'age': 4},\n",
       "  'phone': '039-7503-456',\n",
       "  'cell': '064-2952-510',\n",
       "  'id': 3,\n",
       "  'picture': {'large': 'https://randomuser.me/api/portraits/women/96.jpg',\n",
       "   'medium': 'https://randomuser.me/api/portraits/med/women/96.jpg',\n",
       "   'thumbnail': 'https://randomuser.me/api/portraits/thumb/women/96.jpg'},\n",
       "  'nat': 'RS'},\n",
       " {'gender': 'female',\n",
       "  'name': {'title': 'Ms', 'first': 'Yori', 'last': 'Knot'},\n",
       "  'location': {'street': {'number': 1243, 'name': 'Kastordreef'},\n",
       "   'city': 'Winterswijk Henxel',\n",
       "   'state': 'Utrecht',\n",
       "   'country': 'Netherlands',\n",
       "   'postcode': '3305 DO',\n",
       "   'coordinates': {'latitude': '-39.0490', 'longitude': '88.6245'},\n",
       "   'timezone': {'offset': '-3:30', 'description': 'Newfoundland'}},\n",
       "  'email': 'yori.knot@example.com',\n",
       "  'login': {'uuid': 'a2dadb83-2e6a-4d12-ad80-2d35e84cfbfb',\n",
       "   'username': 'purpledog668',\n",
       "   'password': 'ilikeit',\n",
       "   'salt': 'zmeTOy1q',\n",
       "   'md5': '48ecff0ad189ec56cc77cf08b95f6de8',\n",
       "   'sha1': 'ebae70d28b5cf4c2164dcf32f1dc33cf0c4e2f21',\n",
       "   'sha256': '9af6004f46f05b9317bd780f18eb409fb22186f587850b48a62b7c12e45f0730'},\n",
       "  'dob': {'date': '1963-10-03T14:59:37.860Z', 'age': 59},\n",
       "  'registered': {'date': '2007-05-08T12:35:56.245Z', 'age': 16},\n",
       "  'phone': '(096) 2598476',\n",
       "  'cell': '(06) 13040738',\n",
       "  'id': 4,\n",
       "  'picture': {'large': 'https://randomuser.me/api/portraits/women/43.jpg',\n",
       "   'medium': 'https://randomuser.me/api/portraits/med/women/43.jpg',\n",
       "   'thumbnail': 'https://randomuser.me/api/portraits/thumb/women/43.jpg'},\n",
       "  'nat': 'NL'},\n",
       " {'gender': 'female',\n",
       "  'name': {'title': 'Madame', 'first': 'Cäcilia', 'last': 'Lemoine'},\n",
       "  'location': {'street': {'number': 3778, 'name': 'Montée du Chemin-Neuf'},\n",
       "   'city': 'Erlinsbach (Ag)',\n",
       "   'state': 'Schwyz',\n",
       "   'country': 'Switzerland',\n",
       "   'postcode': 1138,\n",
       "   'coordinates': {'latitude': '0.3904', 'longitude': '-150.1322'},\n",
       "   'timezone': {'offset': '-7:00',\n",
       "    'description': 'Mountain Time (US & Canada)'}},\n",
       "  'email': 'cacilia.lemoine@example.com',\n",
       "  'login': {'uuid': '569974f9-4921-4c5a-8031-f7bff6f41efc',\n",
       "   'username': 'beautifulrabbit185',\n",
       "   'password': 'bigtime',\n",
       "   'salt': 'RcUosVOt',\n",
       "   'md5': '180077a1ef8cc1e9cf42860f645b3b2f',\n",
       "   'sha1': '5269d29ebc80c8d73fe7a6383e838b054a760b51',\n",
       "   'sha256': '1a4381f6625bb368ffa08ada211f7848acce2e2a418361899d8f91bd69578139'},\n",
       "  'dob': {'date': '1970-04-26T10:23:24.025Z', 'age': 53},\n",
       "  'registered': {'date': '2020-07-15T11:41:59.706Z', 'age': 2},\n",
       "  'phone': '076 011 82 88',\n",
       "  'cell': '076 657 23 84',\n",
       "  'id': 5,\n",
       "  'picture': {'large': 'https://randomuser.me/api/portraits/women/42.jpg',\n",
       "   'medium': 'https://randomuser.me/api/portraits/med/women/42.jpg',\n",
       "   'thumbnail': 'https://randomuser.me/api/portraits/thumb/women/42.jpg'},\n",
       "  'nat': 'CH'},\n",
       " {'gender': 'female',\n",
       "  'name': {'title': 'Mrs', 'first': 'Nandita', 'last': 'Uchil'},\n",
       "  'location': {'street': {'number': 6826, 'name': 'NAD X Rd'},\n",
       "   'city': 'Kozhikode',\n",
       "   'state': 'Tripura',\n",
       "   'country': 'India',\n",
       "   'postcode': 20318,\n",
       "   'coordinates': {'latitude': '-21.4486', 'longitude': '-29.1084'},\n",
       "   'timezone': {'offset': '+5:45', 'description': 'Kathmandu'}},\n",
       "  'email': 'nandita.uchil@example.com',\n",
       "  'login': {'uuid': '31ba6d47-92a5-447f-a48f-c7bab21a219c',\n",
       "   'username': 'goldenostrich181',\n",
       "   'password': 'soccer10',\n",
       "   'salt': 'El6b1cU3',\n",
       "   'md5': 'cb8ba0dba2c270e548fd9dc4fc00612b',\n",
       "   'sha1': 'fe9e3df57d56931472e2ead3e2ba0989660f4805',\n",
       "   'sha256': '210321ab09bb38896ee7a616ba3a8fa0e0dd3f7cbcf93f185bdcc3715b842d4e'},\n",
       "  'dob': {'date': '1978-10-01T00:33:31.775Z', 'age': 44},\n",
       "  'registered': {'date': '2018-03-16T16:46:33.627Z', 'age': 5},\n",
       "  'phone': '9450586544',\n",
       "  'cell': '9376723605',\n",
       "  'id': 6,\n",
       "  'picture': {'large': 'https://randomuser.me/api/portraits/women/82.jpg',\n",
       "   'medium': 'https://randomuser.me/api/portraits/med/women/82.jpg',\n",
       "   'thumbnail': 'https://randomuser.me/api/portraits/thumb/women/82.jpg'},\n",
       "  'nat': 'IN'},\n",
       " {'gender': 'female',\n",
       "  'name': {'title': 'Miss', 'first': 'Terri', 'last': 'Clark'},\n",
       "  'location': {'street': {'number': 3585, 'name': 'College St'},\n",
       "   'city': 'Mildura',\n",
       "   'state': 'New South Wales',\n",
       "   'country': 'Australia',\n",
       "   'postcode': 7746,\n",
       "   'coordinates': {'latitude': '-40.3788', 'longitude': '-164.7382'},\n",
       "   'timezone': {'offset': '0:00',\n",
       "    'description': 'Western Europe Time, London, Lisbon, Casablanca'}},\n",
       "  'email': 'terri.clark@example.com',\n",
       "  'login': {'uuid': '25070c5d-4f32-4a60-8640-828282943624',\n",
       "   'username': 'smallladybug901',\n",
       "   'password': 'elway7',\n",
       "   'salt': 'gvoc7xk4',\n",
       "   'md5': '2ebf82771d7ce990ad469ff4e9e80a27',\n",
       "   'sha1': 'f52933723cdaea82f9bffd11134a86ca2872036f',\n",
       "   'sha256': '6b3dafbf3e244aa21f56fc59f631c7d7edd88189719089158df4e5d8775e329f'},\n",
       "  'dob': {'date': '1989-11-13T19:26:57.752Z', 'age': 33},\n",
       "  'registered': {'date': '2021-08-02T19:56:17.949Z', 'age': 1},\n",
       "  'phone': '07-1746-8000',\n",
       "  'cell': '0466-518-535',\n",
       "  'id': 7,\n",
       "  'picture': {'large': 'https://randomuser.me/api/portraits/women/59.jpg',\n",
       "   'medium': 'https://randomuser.me/api/portraits/med/women/59.jpg',\n",
       "   'thumbnail': 'https://randomuser.me/api/portraits/thumb/women/59.jpg'},\n",
       "  'nat': 'AU'},\n",
       " {'gender': 'male',\n",
       "  'name': {'title': 'Mr', 'first': 'Dibach', 'last': 'Gocko'},\n",
       "  'location': {'street': {'number': 1883, 'name': 'Ivana Pulyuya'},\n",
       "   'city': 'Popasna',\n",
       "   'state': 'Poltavska',\n",
       "   'country': 'Ukraine',\n",
       "   'postcode': 22060,\n",
       "   'coordinates': {'latitude': '23.5401', 'longitude': '106.1507'},\n",
       "   'timezone': {'offset': '+5:00',\n",
       "    'description': 'Ekaterinburg, Islamabad, Karachi, Tashkent'}},\n",
       "  'email': 'dibach.gocko@example.com',\n",
       "  'login': {'uuid': 'b0c34ca5-20c1-47e6-b040-12d3de4a8b45',\n",
       "   'username': 'heavysnake675',\n",
       "   'password': 'wowwow',\n",
       "   'salt': 'jlHUGO4a',\n",
       "   'md5': '478264ccf64d1fbf414c4c10fd9345fc',\n",
       "   'sha1': 'd9dc663a737b747137f56d76e4614b25a760c123',\n",
       "   'sha256': 'fce19f3106a0360176cfc8863e7bd22c8384867acbe1f7a21b93d4b07364e291'},\n",
       "  'dob': {'date': '1981-07-13T07:30:31.046Z', 'age': 41},\n",
       "  'registered': {'date': '2020-06-15T06:00:13.939Z', 'age': 2},\n",
       "  'phone': '(096) Q51-1466',\n",
       "  'cell': '(097) H03-7594',\n",
       "  'id': 8,\n",
       "  'picture': {'large': 'https://randomuser.me/api/portraits/men/97.jpg',\n",
       "   'medium': 'https://randomuser.me/api/portraits/med/men/97.jpg',\n",
       "   'thumbnail': 'https://randomuser.me/api/portraits/thumb/men/97.jpg'},\n",
       "  'nat': 'UA'},\n",
       " {'gender': 'female',\n",
       "  'name': {'title': 'Ms', 'first': 'Virginia', 'last': 'Domínguez'},\n",
       "  'location': {'street': {'number': 3813, 'name': 'Avenida de Andalucía'},\n",
       "   'city': 'Santa Cruz de Tenerife',\n",
       "   'state': 'Asturias',\n",
       "   'country': 'Spain',\n",
       "   'postcode': 30399,\n",
       "   'coordinates': {'latitude': '68.0499', 'longitude': '-9.1692'},\n",
       "   'timezone': {'offset': '0:00',\n",
       "    'description': 'Western Europe Time, London, Lisbon, Casablanca'}},\n",
       "  'email': 'virginia.dominguez@example.com',\n",
       "  'login': {'uuid': '63b2e547-b188-47f7-8a98-e173e0d0ced5',\n",
       "   'username': 'tinymeercat592',\n",
       "   'password': 'lander',\n",
       "   'salt': 'wdlOyzev',\n",
       "   'md5': 'd2dd087741f12a7dbef36df5e3294846',\n",
       "   'sha1': '9d899ba14206c645557261b14572c9cdc13fcd1c',\n",
       "   'sha256': '6d9cfd544a26c1bbb02903f0e0503da2242ada312abe31b62cd70393e5ff5643'},\n",
       "  'dob': {'date': '1988-10-18T10:40:46.976Z', 'age': 34},\n",
       "  'registered': {'date': '2018-10-07T16:11:51.787Z', 'age': 4},\n",
       "  'phone': '950-457-280',\n",
       "  'cell': '663-396-994',\n",
       "  'id': 9,\n",
       "  'picture': {'large': 'https://randomuser.me/api/portraits/women/60.jpg',\n",
       "   'medium': 'https://randomuser.me/api/portraits/med/women/60.jpg',\n",
       "   'thumbnail': 'https://randomuser.me/api/portraits/thumb/women/60.jpg'},\n",
       "  'nat': 'ES'},\n",
       " {'gender': 'male',\n",
       "  'name': {'title': 'Mr', 'first': 'آراد', 'last': 'کوتی'},\n",
       "  'location': {'street': {'number': 6607, 'name': 'میدان استقلال'},\n",
       "   'city': 'نیشابور',\n",
       "   'state': 'کردستان',\n",
       "   'country': 'Iran',\n",
       "   'postcode': 86893,\n",
       "   'coordinates': {'latitude': '30.4677', 'longitude': '-147.4363'},\n",
       "   'timezone': {'offset': '-6:00',\n",
       "    'description': 'Central Time (US & Canada), Mexico City'}},\n",
       "  'email': 'ard.khwty@example.com',\n",
       "  'login': {'uuid': '9cdb7909-ca96-46c5-89c4-5909db33c1d0',\n",
       "   'username': 'goldendog820',\n",
       "   'password': 'lucky',\n",
       "   'salt': '7YOJGqxC',\n",
       "   'md5': '57a78bf79f14747d8e4e4bfc8b88421c',\n",
       "   'sha1': '0d1d7a5e577a6ad2f24e6197fdff5406561b485c',\n",
       "   'sha256': 'dac7bc7fcf5c3fc7fae006ae8a318908515c45d4dfd315063e1d406a96337f91'},\n",
       "  'dob': {'date': '1960-04-09T12:58:36.692Z', 'age': 63},\n",
       "  'registered': {'date': '2016-11-19T20:27:01.344Z', 'age': 6},\n",
       "  'phone': '040-18679426',\n",
       "  'cell': '0955-789-0778',\n",
       "  'id': 10,\n",
       "  'picture': {'large': 'https://randomuser.me/api/portraits/men/28.jpg',\n",
       "   'medium': 'https://randomuser.me/api/portraits/med/men/28.jpg',\n",
       "   'thumbnail': 'https://randomuser.me/api/portraits/thumb/men/28.jpg'},\n",
       "  'nat': 'IR'}]"
      ]
     },
     "execution_count": 85,
     "metadata": {},
     "output_type": "execute_result"
    }
   ],
   "source": [
    "import requests\n",
    "\n",
    "url = \"https://api.freeapi.app/api/v1/public/randomusers\"\n",
    "response = requests.get(url)\n",
    "print()\n",
    "data=response.json()\n",
    "data[\"data\"][\"data\"]"
   ]
  },
  {
   "cell_type": "code",
   "execution_count": 77,
   "id": "528077d9-5595-4e7a-b101-ab4fdfc1854b",
   "metadata": {},
   "outputs": [
    {
     "name": "stdout",
     "output_type": "stream",
     "text": [
      "201 {'statusCode': 200, 'data': {'user': {'_id': '6896133dbb9cc501b5810ede', 'avatar': {'url': 'https://via.placeholder.com/200x200.png', 'localPath': '', '_id': '6896133dbb9cc501b5810edd'}, 'username': 'testuser12test34', 'email': 'testedtested@example.com', 'role': 'USER', 'loginType': 'EMAIL_PASSWORD', 'isEmailVerified': False, 'createdAt': '2025-08-08T15:09:49.172Z', 'updatedAt': '2025-08-08T15:09:49.250Z', '__v': 0}}, 'message': 'Users registered successfully and verification email has been sent on your email.', 'success': True}\n"
     ]
    }
   ],
   "source": [
    "signup_url = \"https://api.freeapi.app/api/v1/users/register\"\n",
    "new_user = {\n",
    "    \"username\": \"testuser12test34\",\n",
    "    \"email\": \"testedtested@example.com\",\n",
    "    \"password\": \"StrongPass!123\"\n",
    "}\n",
    "r = requests.post(signup_url, json=new_user)\n",
    "print(r.status_code, r.json())\n"
   ]
  },
  {
   "cell_type": "code",
   "execution_count": 81,
   "id": "54ef86f6-3fef-44cb-9ac9-1e6cbaaa9ba2",
   "metadata": {},
   "outputs": [
    {
     "name": "stdout",
     "output_type": "stream",
     "text": [
      "200 {'statusCode': 200, 'data': {}, 'message': 'Password reset mail has been sent on your mail id', 'success': True}\n"
     ]
    }
   ],
   "source": [
    "url = \"https://api.freeapi.app/api/v1/users/forgot-password\"\n",
    "payload = { \"email\": \"testedtested@example.com\"}\n",
    "headers = {\"Content-Type\": \"application/json\"}\n",
    "\n",
    "response = requests.post(url, json=payload, headers=headers)\n",
    "print(response.status_code, response.json())\n"
   ]
  },
  {
   "cell_type": "code",
   "execution_count": 89,
   "id": "1712206e-a665-4418-9b36-79a66baa0561",
   "metadata": {},
   "outputs": [
    {
     "name": "stdout",
     "output_type": "stream",
     "text": [
      "404 {'statusCode': 404, 'data': None, 'success': False, 'errors': [], 'message': 'User does not exists'}\n"
     ]
    }
   ],
   "source": [
    "url = \"https://api.freeapi.app/api/v1/users/forgot-password\"\n",
    "payload = { \"email\": \"nandita.uchil@example.com\"}\n",
    "headers = {\"Content-Type\": \"application/json\"}\n",
    "\n",
    "response = requests.post(url, json=payload, headers=headers)\n",
    "print(response.status_code, response.json())\n"
   ]
  },
  {
   "cell_type": "code",
   "execution_count": null,
   "id": "24d43f33-a1b5-4a74-9c48-ed4836402763",
   "metadata": {},
   "outputs": [],
   "source": []
  }
 ],
 "metadata": {
  "kernelspec": {
   "display_name": "Python 3 (ipykernel)",
   "language": "python",
   "name": "python3"
  },
  "language_info": {
   "codemirror_mode": {
    "name": "ipython",
    "version": 3
   },
   "file_extension": ".py",
   "mimetype": "text/x-python",
   "name": "python",
   "nbconvert_exporter": "python",
   "pygments_lexer": "ipython3",
   "version": "3.12.7"
  }
 },
 "nbformat": 4,
 "nbformat_minor": 5
}
