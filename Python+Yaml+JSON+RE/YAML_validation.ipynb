{
 "cells": [
  {
   "cell_type": "code",
   "execution_count": 1,
   "id": "da23bfe2-663e-46e4-821f-747a25a4d6aa",
   "metadata": {},
   "outputs": [
    {
     "name": "stdout",
     "output_type": "stream",
     "text": [
      "Requirement already satisfied: pyyaml in c:\\users\\dell-pc\\anaconda3\\lib\\site-packages (6.0.1)\n",
      "Note: you may need to restart the kernel to use updated packages.\n"
     ]
    }
   ],
   "source": [
    "pip install pyyaml\n"
   ]
  },
  {
   "cell_type": "code",
   "execution_count": 5,
   "id": "ecd52f38-a324-4379-b0e7-0a37c433218e",
   "metadata": {},
   "outputs": [],
   "source": [
    "import yaml"
   ]
  },
  {
   "cell_type": "code",
   "execution_count": 23,
   "id": "cab3e147-ac07-45f0-a88b-ff1c61972510",
   "metadata": {},
   "outputs": [
    {
     "name": "stdout",
     "output_type": "stream",
     "text": [
      "Your valid YAML file is : \n",
      "\n",
      "{'ommon': {'wheels': 4, 'fuel': 'petrol'}, 'vehcile': {'car': {'name': 'alto', 'spec': {'wheels': 4, 'fuel': 'petrol'}}, 'bike': {'name': 'cbr', 'spec': {'wheels': 2, 'fuel': 'petrol'}}, 'Truck': {'wheels': 4, 'fuel': 'Diesel', 'name': 'Tata'}}}\n"
     ]
    }
   ],
   "source": [
    "with open('yml.yml','r') as file:\n",
    "    try:\n",
    "        print(\"Your valid YAML file is : \\n\")\n",
    "        print(yaml.safe_load(file))\n",
    "    except yaml.YAMLError as exc:\n",
    "        print(exc)"
   ]
  },
  {
   "cell_type": "code",
   "execution_count": 29,
   "id": "27afaaab-743e-4615-b870-20ad7cd90764",
   "metadata": {},
   "outputs": [
    {
     "name": "stdout",
     "output_type": "stream",
     "text": [
      "YAML.yml is a valid YAML file ✅\n"
     ]
    }
   ],
   "source": [
    "def validate_yaml(file_path):\n",
    "    try:\n",
    "        with open(file_path, 'r') as file:\n",
    "            yaml.safe_load(file)\n",
    "        print(f\"{file_path} is a valid YAML file ✅\")\n",
    "    except yaml.YAMLError as e:\n",
    "        print(f\"{file_path} is not a valid YAML file ❌\")\n",
    "        print(\"Error:\", e)\n",
    "    except FileNotFoundError:\n",
    "        print(f\"File '{file_path}' not found ❗\")\n",
    "validate_yaml('YAML.yml')\n"
   ]
  },
  {
   "cell_type": "code",
   "execution_count": 31,
   "id": "ddb7ea1c-9c1d-4f34-8c20-9813619ca5a0",
   "metadata": {},
   "outputs": [
    {
     "name": "stdout",
     "output_type": "stream",
     "text": [
      "File 'example.yaml' not found ❗\n"
     ]
    }
   ],
   "source": [
    "def validate_yaml(file_path):\n",
    "    try:\n",
    "        with open(file_path, 'r') as file:\n",
    "            yaml.safe_load(file)\n",
    "        print(f\"{file_path} is a valid YAML file ✅\")\n",
    "    except yaml.YAMLError as e:\n",
    "        print(f\"{file_path} is not a valid YAML file ❌\")\n",
    "        print(\"Error:\", e)\n",
    "    except FileNotFoundError:\n",
    "        print(f\"File '{file_path}' not found ❗\")\n",
    "\n",
    "# Example usage:\n",
    "validate_yaml('example.yaml')\n"
   ]
  },
  {
   "cell_type": "code",
   "execution_count": null,
   "id": "775035be-ec3e-4987-a623-98490e81b879",
   "metadata": {},
   "outputs": [],
   "source": []
  }
 ],
 "metadata": {
  "kernelspec": {
   "display_name": "Python 3 (ipykernel)",
   "language": "python",
   "name": "python3"
  },
  "language_info": {
   "codemirror_mode": {
    "name": "ipython",
    "version": 3
   },
   "file_extension": ".py",
   "mimetype": "text/x-python",
   "name": "python",
   "nbconvert_exporter": "python",
   "pygments_lexer": "ipython3",
   "version": "3.12.7"
  }
 },
 "nbformat": 4,
 "nbformat_minor": 5
}
